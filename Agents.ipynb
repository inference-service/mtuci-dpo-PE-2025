{
 "cells": [
  {
   "cell_type": "code",
   "execution_count": 1,
   "id": "bbee07c5-ed5a-4c87-9def-92767bffd0e9",
   "metadata": {},
   "outputs": [
    {
     "data": {
      "text/plain": [
       "True"
      ]
     },
     "execution_count": 1,
     "metadata": {},
     "output_type": "execute_result"
    }
   ],
   "source": [
    "from dotenv import load_dotenv\n",
    "from langchain_community.llms import YandexGPT\n",
    "import asyncio\n",
    "\n",
    "from langchain_core.globals import set_debug\n",
    "#set_debug(True)\n",
    "\n",
    "load_dotenv()"
   ]
  },
  {
   "cell_type": "code",
   "execution_count": 2,
   "id": "a8eb9d75-3018-44c1-9998-3eef720cda6e",
   "metadata": {},
   "outputs": [],
   "source": [
    "llm = YandexGPT(\n",
    "    temperature=0,\n",
    "    model_name=\"yandexgpt\"\n",
    ")"
   ]
  },
  {
   "cell_type": "code",
   "execution_count": 3,
   "id": "0cb4cbe0-73e9-4789-8fd8-b1842a025547",
   "metadata": {},
   "outputs": [],
   "source": [
    "from langchain.chains import LLMMathChain # Цепочка, интерпретирующая промпт и запускающая интерпретатор Python для вычислений\n",
    "from langchain.agents import Tool"
   ]
  },
  {
   "cell_type": "code",
   "execution_count": 4,
   "id": "71719e51-8c26-4d01-8920-3cd01bcae397",
   "metadata": {},
   "outputs": [],
   "source": [
    "# initialize the math tool\n",
    "\n",
    "    \n",
    "     \n",
    "\n",
    "\n",
    "llm_math = LLMMathChain.from_llm(llm)\n",
    "\n",
    "async def strip_input(*args, **kwargs):\n",
    "     print (args)\n",
    "     print (kwargs)\n",
    "     global llm_math\n",
    "     return await llm_math.ainvoke(*args, **kwargs)\n",
    "\n",
    "math_tool = Tool(\n",
    "    name='Калькулятор',\n",
    "    func=llm_math.invoke,\n",
    "    coroutine=strip_input,\n",
    "    description='Полезно, когда необходимо решить вопросы с математическими выражениями.'\n",
    ")\n",
    "\n",
    "# when giving tools to LLM, we must pass as list of tools\n",
    "tools = [math_tool]  # is a list of possible Tools that your agent can use"
   ]
  },
  {
   "cell_type": "code",
   "execution_count": 5,
   "id": "389cbe81-62b2-4091-af10-9444f2ffe2ce",
   "metadata": {},
   "outputs": [
    {
     "name": "stderr",
     "output_type": "stream",
     "text": [
      "C:\\Users\\Tempest\\AppData\\Local\\Temp\\ipykernel_22256\\2579540736.py:3: LangChainDeprecationWarning: LangChain agents will continue to be supported, but it is recommended for new use cases to be built with LangGraph. LangGraph offers a more flexible and full-featured framework for building agents, including support for tool-calling, persistence of state, and human-in-the-loop workflows. For details, refer to the `LangGraph documentation <https://langchain-ai.github.io/langgraph/>`_ as well as guides for `Migrating from AgentExecutor <https://python.langchain.com/docs/how_to/migrate_agent/>`_ and LangGraph's `Pre-built ReAct agent <https://langchain-ai.github.io/langgraph/how-tos/create-react-agent/>`_.\n",
      "  zero_shot_agent = initialize_agent(\n"
     ]
    }
   ],
   "source": [
    "from langchain.agents import initialize_agent\n",
    "\n",
    "zero_shot_agent = initialize_agent(\n",
    "    agent=\"zero-shot-react-description\",\n",
    "    tools=tools,\n",
    "    llm=llm,\n",
    "    verbose=True,\n",
    "    max_iterations=10\n",
    ")"
   ]
  },
  {
   "cell_type": "code",
   "execution_count": 6,
   "id": "26839f4b-7253-4c6d-bce6-7dda20ca813d",
   "metadata": {},
   "outputs": [
    {
     "name": "stdout",
     "output_type": "stream",
     "text": [
      "\n",
      "\n",
      "\u001b[1m> Entering new AgentExecutor chain...\u001b[0m\n",
      "\u001b[32;1m\u001b[1;3mЧтобы найти квадратный корень из числа 1215, нужно воспользоваться калькулятором.\n",
      "Action: Калькулятор\n",
      "Action Input: {\"expression\": \"sqrt(1215)\"}\u001b[0m('{\"expression\": \"sqrt(1215)\"}',)\n",
      "{}\n"
     ]
    },
    {
     "ename": "ValueError",
     "evalue": "unknown format from LLM: ```\nfrom numexpr import evaluate\n\nexpression = \"sqrt(1215)\"\nresult = evaluate(expression)\nprint(result)\n```\n...numexpr.evaluate(\"sqrt(1215)\")...",
     "output_type": "error",
     "traceback": [
      "\u001b[1;31m---------------------------------------------------------------------------\u001b[0m",
      "\u001b[1;31mValueError\u001b[0m                                Traceback (most recent call last)",
      "Cell \u001b[1;32mIn[6], line 1\u001b[0m\n\u001b[1;32m----> 1\u001b[0m \u001b[38;5;28;01mawait\u001b[39;00m zero_shot_agent\u001b[38;5;241m.\u001b[39mainvoke(\u001b[38;5;124m\"\u001b[39m\u001b[38;5;124mЧему равен квадратный корень из 1215?\u001b[39m\u001b[38;5;124m\"\u001b[39m)\n",
      "File \u001b[1;32m~\\Desktop\\yandex-cloud\\.venv\\lib\\site-packages\\langchain\\chains\\base.py:218\u001b[0m, in \u001b[0;36mChain.ainvoke\u001b[1;34m(self, input, config, **kwargs)\u001b[0m\n\u001b[0;32m    216\u001b[0m \u001b[38;5;28;01mexcept\u001b[39;00m \u001b[38;5;167;01mBaseException\u001b[39;00m \u001b[38;5;28;01mas\u001b[39;00m e:\n\u001b[0;32m    217\u001b[0m     \u001b[38;5;28;01mawait\u001b[39;00m run_manager\u001b[38;5;241m.\u001b[39mon_chain_error(e)\n\u001b[1;32m--> 218\u001b[0m     \u001b[38;5;28;01mraise\u001b[39;00m e\n\u001b[0;32m    219\u001b[0m \u001b[38;5;28;01mawait\u001b[39;00m run_manager\u001b[38;5;241m.\u001b[39mon_chain_end(outputs)\n\u001b[0;32m    221\u001b[0m \u001b[38;5;28;01mif\u001b[39;00m include_run_info:\n",
      "File \u001b[1;32m~\\Desktop\\yandex-cloud\\.venv\\lib\\site-packages\\langchain\\chains\\base.py:209\u001b[0m, in \u001b[0;36mChain.ainvoke\u001b[1;34m(self, input, config, **kwargs)\u001b[0m\n\u001b[0;32m    206\u001b[0m \u001b[38;5;28;01mtry\u001b[39;00m:\n\u001b[0;32m    207\u001b[0m     \u001b[38;5;28mself\u001b[39m\u001b[38;5;241m.\u001b[39m_validate_inputs(inputs)\n\u001b[0;32m    208\u001b[0m     outputs \u001b[38;5;241m=\u001b[39m (\n\u001b[1;32m--> 209\u001b[0m         \u001b[38;5;28;01mawait\u001b[39;00m \u001b[38;5;28mself\u001b[39m\u001b[38;5;241m.\u001b[39m_acall(inputs, run_manager\u001b[38;5;241m=\u001b[39mrun_manager)\n\u001b[0;32m    210\u001b[0m         \u001b[38;5;28;01mif\u001b[39;00m new_arg_supported\n\u001b[0;32m    211\u001b[0m         \u001b[38;5;28;01melse\u001b[39;00m \u001b[38;5;28;01mawait\u001b[39;00m \u001b[38;5;28mself\u001b[39m\u001b[38;5;241m.\u001b[39m_acall(inputs)\n\u001b[0;32m    212\u001b[0m     )\n\u001b[0;32m    213\u001b[0m     final_outputs: \u001b[38;5;28mdict\u001b[39m[\u001b[38;5;28mstr\u001b[39m, Any] \u001b[38;5;241m=\u001b[39m \u001b[38;5;28;01mawait\u001b[39;00m \u001b[38;5;28mself\u001b[39m\u001b[38;5;241m.\u001b[39maprep_outputs(\n\u001b[0;32m    214\u001b[0m         inputs, outputs, return_only_outputs\n\u001b[0;32m    215\u001b[0m     )\n\u001b[0;32m    216\u001b[0m \u001b[38;5;28;01mexcept\u001b[39;00m \u001b[38;5;167;01mBaseException\u001b[39;00m \u001b[38;5;28;01mas\u001b[39;00m e:\n",
      "File \u001b[1;32m~\\Desktop\\yandex-cloud\\.venv\\lib\\site-packages\\langchain\\agents\\agent.py:1669\u001b[0m, in \u001b[0;36mAgentExecutor._acall\u001b[1;34m(self, inputs, run_manager)\u001b[0m\n\u001b[0;32m   1667\u001b[0m \u001b[38;5;28;01masync\u001b[39;00m \u001b[38;5;28;01mwith\u001b[39;00m asyncio_timeout(\u001b[38;5;28mself\u001b[39m\u001b[38;5;241m.\u001b[39mmax_execution_time):\n\u001b[0;32m   1668\u001b[0m     \u001b[38;5;28;01mwhile\u001b[39;00m \u001b[38;5;28mself\u001b[39m\u001b[38;5;241m.\u001b[39m_should_continue(iterations, time_elapsed):\n\u001b[1;32m-> 1669\u001b[0m         next_step_output \u001b[38;5;241m=\u001b[39m \u001b[38;5;28;01mawait\u001b[39;00m \u001b[38;5;28mself\u001b[39m\u001b[38;5;241m.\u001b[39m_atake_next_step(\n\u001b[0;32m   1670\u001b[0m             name_to_tool_map,\n\u001b[0;32m   1671\u001b[0m             color_mapping,\n\u001b[0;32m   1672\u001b[0m             inputs,\n\u001b[0;32m   1673\u001b[0m             intermediate_steps,\n\u001b[0;32m   1674\u001b[0m             run_manager\u001b[38;5;241m=\u001b[39mrun_manager,\n\u001b[0;32m   1675\u001b[0m         )\n\u001b[0;32m   1676\u001b[0m         \u001b[38;5;28;01mif\u001b[39;00m \u001b[38;5;28misinstance\u001b[39m(next_step_output, AgentFinish):\n\u001b[0;32m   1677\u001b[0m             \u001b[38;5;28;01mreturn\u001b[39;00m \u001b[38;5;28;01mawait\u001b[39;00m \u001b[38;5;28mself\u001b[39m\u001b[38;5;241m.\u001b[39m_areturn(\n\u001b[0;32m   1678\u001b[0m                 next_step_output,\n\u001b[0;32m   1679\u001b[0m                 intermediate_steps,\n\u001b[0;32m   1680\u001b[0m                 run_manager\u001b[38;5;241m=\u001b[39mrun_manager,\n\u001b[0;32m   1681\u001b[0m             )\n",
      "File \u001b[1;32m~\\Desktop\\yandex-cloud\\.venv\\lib\\site-packages\\langchain\\agents\\agent.py:1463\u001b[0m, in \u001b[0;36mAgentExecutor._atake_next_step\u001b[1;34m(self, name_to_tool_map, color_mapping, inputs, intermediate_steps, run_manager)\u001b[0m\n\u001b[0;32m   1454\u001b[0m \u001b[38;5;28;01masync\u001b[39;00m \u001b[38;5;28;01mdef\u001b[39;00m\u001b[38;5;250m \u001b[39m\u001b[38;5;21m_atake_next_step\u001b[39m(\n\u001b[0;32m   1455\u001b[0m     \u001b[38;5;28mself\u001b[39m,\n\u001b[0;32m   1456\u001b[0m     name_to_tool_map: \u001b[38;5;28mdict\u001b[39m[\u001b[38;5;28mstr\u001b[39m, BaseTool],\n\u001b[1;32m   (...)\u001b[0m\n\u001b[0;32m   1460\u001b[0m     run_manager: Optional[AsyncCallbackManagerForChainRun] \u001b[38;5;241m=\u001b[39m \u001b[38;5;28;01mNone\u001b[39;00m,\n\u001b[0;32m   1461\u001b[0m ) \u001b[38;5;241m-\u001b[39m\u001b[38;5;241m>\u001b[39m Union[AgentFinish, \u001b[38;5;28mlist\u001b[39m[\u001b[38;5;28mtuple\u001b[39m[AgentAction, \u001b[38;5;28mstr\u001b[39m]]]:\n\u001b[0;32m   1462\u001b[0m     \u001b[38;5;28;01mreturn\u001b[39;00m \u001b[38;5;28mself\u001b[39m\u001b[38;5;241m.\u001b[39m_consume_next_step(\n\u001b[1;32m-> 1463\u001b[0m         [\n\u001b[0;32m   1464\u001b[0m             a\n\u001b[0;32m   1465\u001b[0m             \u001b[38;5;28;01masync\u001b[39;00m \u001b[38;5;28;01mfor\u001b[39;00m a \u001b[38;5;129;01min\u001b[39;00m \u001b[38;5;28mself\u001b[39m\u001b[38;5;241m.\u001b[39m_aiter_next_step(\n\u001b[0;32m   1466\u001b[0m                 name_to_tool_map,\n\u001b[0;32m   1467\u001b[0m                 color_mapping,\n\u001b[0;32m   1468\u001b[0m                 inputs,\n\u001b[0;32m   1469\u001b[0m                 intermediate_steps,\n\u001b[0;32m   1470\u001b[0m                 run_manager,\n\u001b[0;32m   1471\u001b[0m             )\n\u001b[0;32m   1472\u001b[0m         ]\n\u001b[0;32m   1473\u001b[0m     )\n",
      "File \u001b[1;32m~\\Desktop\\yandex-cloud\\.venv\\lib\\site-packages\\langchain\\agents\\agent.py:1463\u001b[0m, in \u001b[0;36m<listcomp>\u001b[1;34m(.0)\u001b[0m\n\u001b[0;32m   1454\u001b[0m \u001b[38;5;28;01masync\u001b[39;00m \u001b[38;5;28;01mdef\u001b[39;00m\u001b[38;5;250m \u001b[39m\u001b[38;5;21m_atake_next_step\u001b[39m(\n\u001b[0;32m   1455\u001b[0m     \u001b[38;5;28mself\u001b[39m,\n\u001b[0;32m   1456\u001b[0m     name_to_tool_map: \u001b[38;5;28mdict\u001b[39m[\u001b[38;5;28mstr\u001b[39m, BaseTool],\n\u001b[1;32m   (...)\u001b[0m\n\u001b[0;32m   1460\u001b[0m     run_manager: Optional[AsyncCallbackManagerForChainRun] \u001b[38;5;241m=\u001b[39m \u001b[38;5;28;01mNone\u001b[39;00m,\n\u001b[0;32m   1461\u001b[0m ) \u001b[38;5;241m-\u001b[39m\u001b[38;5;241m>\u001b[39m Union[AgentFinish, \u001b[38;5;28mlist\u001b[39m[\u001b[38;5;28mtuple\u001b[39m[AgentAction, \u001b[38;5;28mstr\u001b[39m]]]:\n\u001b[0;32m   1462\u001b[0m     \u001b[38;5;28;01mreturn\u001b[39;00m \u001b[38;5;28mself\u001b[39m\u001b[38;5;241m.\u001b[39m_consume_next_step(\n\u001b[1;32m-> 1463\u001b[0m         [\n\u001b[0;32m   1464\u001b[0m             a\n\u001b[0;32m   1465\u001b[0m             \u001b[38;5;28;01masync\u001b[39;00m \u001b[38;5;28;01mfor\u001b[39;00m a \u001b[38;5;129;01min\u001b[39;00m \u001b[38;5;28mself\u001b[39m\u001b[38;5;241m.\u001b[39m_aiter_next_step(\n\u001b[0;32m   1466\u001b[0m                 name_to_tool_map,\n\u001b[0;32m   1467\u001b[0m                 color_mapping,\n\u001b[0;32m   1468\u001b[0m                 inputs,\n\u001b[0;32m   1469\u001b[0m                 intermediate_steps,\n\u001b[0;32m   1470\u001b[0m                 run_manager,\n\u001b[0;32m   1471\u001b[0m             )\n\u001b[0;32m   1472\u001b[0m         ]\n\u001b[0;32m   1473\u001b[0m     )\n",
      "File \u001b[1;32m~\\Desktop\\yandex-cloud\\.venv\\lib\\site-packages\\langchain\\agents\\agent.py:1547\u001b[0m, in \u001b[0;36mAgentExecutor._aiter_next_step\u001b[1;34m(self, name_to_tool_map, color_mapping, inputs, intermediate_steps, run_manager)\u001b[0m\n\u001b[0;32m   1544\u001b[0m     \u001b[38;5;28;01myield\u001b[39;00m agent_action\n\u001b[0;32m   1546\u001b[0m \u001b[38;5;66;03m# Use asyncio.gather to run multiple tool.arun() calls concurrently\u001b[39;00m\n\u001b[1;32m-> 1547\u001b[0m result \u001b[38;5;241m=\u001b[39m \u001b[38;5;28;01mawait\u001b[39;00m asyncio\u001b[38;5;241m.\u001b[39mgather(\n\u001b[0;32m   1548\u001b[0m     \u001b[38;5;241m*\u001b[39m[\n\u001b[0;32m   1549\u001b[0m         \u001b[38;5;28mself\u001b[39m\u001b[38;5;241m.\u001b[39m_aperform_agent_action(\n\u001b[0;32m   1550\u001b[0m             name_to_tool_map, color_mapping, agent_action, run_manager\n\u001b[0;32m   1551\u001b[0m         )\n\u001b[0;32m   1552\u001b[0m         \u001b[38;5;28;01mfor\u001b[39;00m agent_action \u001b[38;5;129;01min\u001b[39;00m actions\n\u001b[0;32m   1553\u001b[0m     ],\n\u001b[0;32m   1554\u001b[0m )\n\u001b[0;32m   1556\u001b[0m \u001b[38;5;66;03m# TODO This could yield each result as it becomes available\u001b[39;00m\n\u001b[0;32m   1557\u001b[0m \u001b[38;5;28;01mfor\u001b[39;00m chunk \u001b[38;5;129;01min\u001b[39;00m result:\n",
      "File \u001b[1;32m~\\Desktop\\yandex-cloud\\.venv\\lib\\site-packages\\langchain\\agents\\agent.py:1580\u001b[0m, in \u001b[0;36mAgentExecutor._aperform_agent_action\u001b[1;34m(self, name_to_tool_map, color_mapping, agent_action, run_manager)\u001b[0m\n\u001b[0;32m   1578\u001b[0m         tool_run_kwargs[\u001b[38;5;124m\"\u001b[39m\u001b[38;5;124mllm_prefix\u001b[39m\u001b[38;5;124m\"\u001b[39m] \u001b[38;5;241m=\u001b[39m \u001b[38;5;124m\"\u001b[39m\u001b[38;5;124m\"\u001b[39m\n\u001b[0;32m   1579\u001b[0m     \u001b[38;5;66;03m# We then call the tool on the tool input to get an observation\u001b[39;00m\n\u001b[1;32m-> 1580\u001b[0m     observation \u001b[38;5;241m=\u001b[39m \u001b[38;5;28;01mawait\u001b[39;00m tool\u001b[38;5;241m.\u001b[39marun(\n\u001b[0;32m   1581\u001b[0m         agent_action\u001b[38;5;241m.\u001b[39mtool_input,\n\u001b[0;32m   1582\u001b[0m         verbose\u001b[38;5;241m=\u001b[39m\u001b[38;5;28mself\u001b[39m\u001b[38;5;241m.\u001b[39mverbose,\n\u001b[0;32m   1583\u001b[0m         color\u001b[38;5;241m=\u001b[39mcolor,\n\u001b[0;32m   1584\u001b[0m         callbacks\u001b[38;5;241m=\u001b[39mrun_manager\u001b[38;5;241m.\u001b[39mget_child() \u001b[38;5;28;01mif\u001b[39;00m run_manager \u001b[38;5;28;01melse\u001b[39;00m \u001b[38;5;28;01mNone\u001b[39;00m,\n\u001b[0;32m   1585\u001b[0m         \u001b[38;5;241m*\u001b[39m\u001b[38;5;241m*\u001b[39mtool_run_kwargs,\n\u001b[0;32m   1586\u001b[0m     )\n\u001b[0;32m   1587\u001b[0m \u001b[38;5;28;01melse\u001b[39;00m:\n\u001b[0;32m   1588\u001b[0m     tool_run_kwargs \u001b[38;5;241m=\u001b[39m \u001b[38;5;28mself\u001b[39m\u001b[38;5;241m.\u001b[39m_action_agent\u001b[38;5;241m.\u001b[39mtool_run_logging_kwargs()\n",
      "File \u001b[1;32m~\\Desktop\\yandex-cloud\\.venv\\lib\\site-packages\\langchain_core\\tools\\base.py:887\u001b[0m, in \u001b[0;36mBaseTool.arun\u001b[1;34m(self, tool_input, verbose, start_color, color, callbacks, tags, metadata, run_name, run_id, config, tool_call_id, **kwargs)\u001b[0m\n\u001b[0;32m    885\u001b[0m \u001b[38;5;28;01mif\u001b[39;00m error_to_raise:\n\u001b[0;32m    886\u001b[0m     \u001b[38;5;28;01mawait\u001b[39;00m run_manager\u001b[38;5;241m.\u001b[39mon_tool_error(error_to_raise)\n\u001b[1;32m--> 887\u001b[0m     \u001b[38;5;28;01mraise\u001b[39;00m error_to_raise\n\u001b[0;32m    889\u001b[0m output \u001b[38;5;241m=\u001b[39m _format_output(content, artifact, tool_call_id, \u001b[38;5;28mself\u001b[39m\u001b[38;5;241m.\u001b[39mname, status)\n\u001b[0;32m    890\u001b[0m \u001b[38;5;28;01mawait\u001b[39;00m run_manager\u001b[38;5;241m.\u001b[39mon_tool_end(output, color\u001b[38;5;241m=\u001b[39mcolor, name\u001b[38;5;241m=\u001b[39m\u001b[38;5;28mself\u001b[39m\u001b[38;5;241m.\u001b[39mname, \u001b[38;5;241m*\u001b[39m\u001b[38;5;241m*\u001b[39mkwargs)\n",
      "File \u001b[1;32m~\\Desktop\\yandex-cloud\\.venv\\lib\\site-packages\\langchain_core\\tools\\base.py:856\u001b[0m, in \u001b[0;36mBaseTool.arun\u001b[1;34m(self, tool_input, verbose, start_color, color, callbacks, tags, metadata, run_name, run_id, config, tool_call_id, **kwargs)\u001b[0m\n\u001b[0;32m    853\u001b[0m         tool_kwargs[config_param] \u001b[38;5;241m=\u001b[39m config\n\u001b[0;32m    855\u001b[0m     coro \u001b[38;5;241m=\u001b[39m \u001b[38;5;28mself\u001b[39m\u001b[38;5;241m.\u001b[39m_arun(\u001b[38;5;241m*\u001b[39mtool_args, \u001b[38;5;241m*\u001b[39m\u001b[38;5;241m*\u001b[39mtool_kwargs)\n\u001b[1;32m--> 856\u001b[0m     response \u001b[38;5;241m=\u001b[39m \u001b[38;5;28;01mawait\u001b[39;00m coro_with_context(coro, context)\n\u001b[0;32m    857\u001b[0m \u001b[38;5;28;01mif\u001b[39;00m \u001b[38;5;28mself\u001b[39m\u001b[38;5;241m.\u001b[39mresponse_format \u001b[38;5;241m==\u001b[39m \u001b[38;5;124m\"\u001b[39m\u001b[38;5;124mcontent_and_artifact\u001b[39m\u001b[38;5;124m\"\u001b[39m:\n\u001b[0;32m    858\u001b[0m     \u001b[38;5;28;01mif\u001b[39;00m \u001b[38;5;129;01mnot\u001b[39;00m \u001b[38;5;28misinstance\u001b[39m(response, \u001b[38;5;28mtuple\u001b[39m) \u001b[38;5;129;01mor\u001b[39;00m \u001b[38;5;28mlen\u001b[39m(response) \u001b[38;5;241m!=\u001b[39m \u001b[38;5;241m2\u001b[39m:\n",
      "File \u001b[1;32m~\\Desktop\\yandex-cloud\\.venv\\lib\\site-packages\\langchain_core\\tools\\simple.py:122\u001b[0m, in \u001b[0;36mTool._arun\u001b[1;34m(self, config, run_manager, *args, **kwargs)\u001b[0m\n\u001b[0;32m    120\u001b[0m     \u001b[38;5;28;01mif\u001b[39;00m config_param \u001b[38;5;241m:=\u001b[39m _get_runnable_config_param(\u001b[38;5;28mself\u001b[39m\u001b[38;5;241m.\u001b[39mcoroutine):\n\u001b[0;32m    121\u001b[0m         kwargs[config_param] \u001b[38;5;241m=\u001b[39m config\n\u001b[1;32m--> 122\u001b[0m     \u001b[38;5;28;01mreturn\u001b[39;00m \u001b[38;5;28;01mawait\u001b[39;00m \u001b[38;5;28mself\u001b[39m\u001b[38;5;241m.\u001b[39mcoroutine(\u001b[38;5;241m*\u001b[39margs, \u001b[38;5;241m*\u001b[39m\u001b[38;5;241m*\u001b[39mkwargs)\n\u001b[0;32m    124\u001b[0m \u001b[38;5;66;03m# NOTE: this code is unreachable since _arun is only called if coroutine is not\u001b[39;00m\n\u001b[0;32m    125\u001b[0m \u001b[38;5;66;03m# None.\u001b[39;00m\n\u001b[0;32m    126\u001b[0m \u001b[38;5;28;01mreturn\u001b[39;00m \u001b[38;5;28;01mawait\u001b[39;00m \u001b[38;5;28msuper\u001b[39m()\u001b[38;5;241m.\u001b[39m_arun(\n\u001b[0;32m    127\u001b[0m     \u001b[38;5;241m*\u001b[39margs, config\u001b[38;5;241m=\u001b[39mconfig, run_manager\u001b[38;5;241m=\u001b[39mrun_manager, \u001b[38;5;241m*\u001b[39m\u001b[38;5;241m*\u001b[39mkwargs\n\u001b[0;32m    128\u001b[0m )\n",
      "Cell \u001b[1;32mIn[4], line 13\u001b[0m, in \u001b[0;36mstrip_input\u001b[1;34m(*args, **kwargs)\u001b[0m\n\u001b[0;32m     11\u001b[0m \u001b[38;5;28mprint\u001b[39m (kwargs)\n\u001b[0;32m     12\u001b[0m \u001b[38;5;28;01mglobal\u001b[39;00m llm_math\n\u001b[1;32m---> 13\u001b[0m \u001b[38;5;28;01mreturn\u001b[39;00m \u001b[38;5;28;01mawait\u001b[39;00m llm_math\u001b[38;5;241m.\u001b[39mainvoke(\u001b[38;5;241m*\u001b[39margs, \u001b[38;5;241m*\u001b[39m\u001b[38;5;241m*\u001b[39mkwargs)\n",
      "File \u001b[1;32m~\\Desktop\\yandex-cloud\\.venv\\lib\\site-packages\\langchain\\chains\\base.py:218\u001b[0m, in \u001b[0;36mChain.ainvoke\u001b[1;34m(self, input, config, **kwargs)\u001b[0m\n\u001b[0;32m    216\u001b[0m \u001b[38;5;28;01mexcept\u001b[39;00m \u001b[38;5;167;01mBaseException\u001b[39;00m \u001b[38;5;28;01mas\u001b[39;00m e:\n\u001b[0;32m    217\u001b[0m     \u001b[38;5;28;01mawait\u001b[39;00m run_manager\u001b[38;5;241m.\u001b[39mon_chain_error(e)\n\u001b[1;32m--> 218\u001b[0m     \u001b[38;5;28;01mraise\u001b[39;00m e\n\u001b[0;32m    219\u001b[0m \u001b[38;5;28;01mawait\u001b[39;00m run_manager\u001b[38;5;241m.\u001b[39mon_chain_end(outputs)\n\u001b[0;32m    221\u001b[0m \u001b[38;5;28;01mif\u001b[39;00m include_run_info:\n",
      "File \u001b[1;32m~\\Desktop\\yandex-cloud\\.venv\\lib\\site-packages\\langchain\\chains\\base.py:209\u001b[0m, in \u001b[0;36mChain.ainvoke\u001b[1;34m(self, input, config, **kwargs)\u001b[0m\n\u001b[0;32m    206\u001b[0m \u001b[38;5;28;01mtry\u001b[39;00m:\n\u001b[0;32m    207\u001b[0m     \u001b[38;5;28mself\u001b[39m\u001b[38;5;241m.\u001b[39m_validate_inputs(inputs)\n\u001b[0;32m    208\u001b[0m     outputs \u001b[38;5;241m=\u001b[39m (\n\u001b[1;32m--> 209\u001b[0m         \u001b[38;5;28;01mawait\u001b[39;00m \u001b[38;5;28mself\u001b[39m\u001b[38;5;241m.\u001b[39m_acall(inputs, run_manager\u001b[38;5;241m=\u001b[39mrun_manager)\n\u001b[0;32m    210\u001b[0m         \u001b[38;5;28;01mif\u001b[39;00m new_arg_supported\n\u001b[0;32m    211\u001b[0m         \u001b[38;5;28;01melse\u001b[39;00m \u001b[38;5;28;01mawait\u001b[39;00m \u001b[38;5;28mself\u001b[39m\u001b[38;5;241m.\u001b[39m_acall(inputs)\n\u001b[0;32m    212\u001b[0m     )\n\u001b[0;32m    213\u001b[0m     final_outputs: \u001b[38;5;28mdict\u001b[39m[\u001b[38;5;28mstr\u001b[39m, Any] \u001b[38;5;241m=\u001b[39m \u001b[38;5;28;01mawait\u001b[39;00m \u001b[38;5;28mself\u001b[39m\u001b[38;5;241m.\u001b[39maprep_outputs(\n\u001b[0;32m    214\u001b[0m         inputs, outputs, return_only_outputs\n\u001b[0;32m    215\u001b[0m     )\n\u001b[0;32m    216\u001b[0m \u001b[38;5;28;01mexcept\u001b[39;00m \u001b[38;5;167;01mBaseException\u001b[39;00m \u001b[38;5;28;01mas\u001b[39;00m e:\n",
      "File \u001b[1;32m~\\Desktop\\yandex-cloud\\.venv\\lib\\site-packages\\langchain\\chains\\llm_math\\base.py:290\u001b[0m, in \u001b[0;36mLLMMathChain._acall\u001b[1;34m(self, inputs, run_manager)\u001b[0m\n\u001b[0;32m    284\u001b[0m \u001b[38;5;28;01mawait\u001b[39;00m _run_manager\u001b[38;5;241m.\u001b[39mon_text(inputs[\u001b[38;5;28mself\u001b[39m\u001b[38;5;241m.\u001b[39minput_key])\n\u001b[0;32m    285\u001b[0m llm_output \u001b[38;5;241m=\u001b[39m \u001b[38;5;28;01mawait\u001b[39;00m \u001b[38;5;28mself\u001b[39m\u001b[38;5;241m.\u001b[39mllm_chain\u001b[38;5;241m.\u001b[39mapredict(\n\u001b[0;32m    286\u001b[0m     question\u001b[38;5;241m=\u001b[39minputs[\u001b[38;5;28mself\u001b[39m\u001b[38;5;241m.\u001b[39minput_key],\n\u001b[0;32m    287\u001b[0m     stop\u001b[38;5;241m=\u001b[39m[\u001b[38;5;124m\"\u001b[39m\u001b[38;5;124m```output\u001b[39m\u001b[38;5;124m\"\u001b[39m],\n\u001b[0;32m    288\u001b[0m     callbacks\u001b[38;5;241m=\u001b[39m_run_manager\u001b[38;5;241m.\u001b[39mget_child(),\n\u001b[0;32m    289\u001b[0m )\n\u001b[1;32m--> 290\u001b[0m \u001b[38;5;28;01mreturn\u001b[39;00m \u001b[38;5;28;01mawait\u001b[39;00m \u001b[38;5;28mself\u001b[39m\u001b[38;5;241m.\u001b[39m_aprocess_llm_result(llm_output, _run_manager)\n",
      "File \u001b[1;32m~\\Desktop\\yandex-cloud\\.venv\\lib\\site-packages\\langchain\\chains\\llm_math\\base.py:261\u001b[0m, in \u001b[0;36mLLMMathChain._aprocess_llm_result\u001b[1;34m(self, llm_output, run_manager)\u001b[0m\n\u001b[0;32m    259\u001b[0m     answer \u001b[38;5;241m=\u001b[39m \u001b[38;5;124m\"\u001b[39m\u001b[38;5;124mAnswer: \u001b[39m\u001b[38;5;124m\"\u001b[39m \u001b[38;5;241m+\u001b[39m llm_output\u001b[38;5;241m.\u001b[39msplit(\u001b[38;5;124m\"\u001b[39m\u001b[38;5;124mAnswer:\u001b[39m\u001b[38;5;124m\"\u001b[39m)[\u001b[38;5;241m-\u001b[39m\u001b[38;5;241m1\u001b[39m]\n\u001b[0;32m    260\u001b[0m \u001b[38;5;28;01melse\u001b[39;00m:\n\u001b[1;32m--> 261\u001b[0m     \u001b[38;5;28;01mraise\u001b[39;00m \u001b[38;5;167;01mValueError\u001b[39;00m(\u001b[38;5;124mf\u001b[39m\u001b[38;5;124m\"\u001b[39m\u001b[38;5;124munknown format from LLM: \u001b[39m\u001b[38;5;132;01m{\u001b[39;00mllm_output\u001b[38;5;132;01m}\u001b[39;00m\u001b[38;5;124m\"\u001b[39m)\n\u001b[0;32m    262\u001b[0m \u001b[38;5;28;01mreturn\u001b[39;00m {\u001b[38;5;28mself\u001b[39m\u001b[38;5;241m.\u001b[39moutput_key: answer}\n",
      "\u001b[1;31mValueError\u001b[0m: unknown format from LLM: ```\nfrom numexpr import evaluate\n\nexpression = \"sqrt(1215)\"\nresult = evaluate(expression)\nprint(result)\n```\n...numexpr.evaluate(\"sqrt(1215)\")..."
     ]
    }
   ],
   "source": [
    "await zero_shot_agent.ainvoke(\"Чему равен квадратный корень из 1215?\")"
   ]
  },
  {
   "cell_type": "code",
   "execution_count": 7,
   "id": "fb187146-e895-4964-bca1-83487926d667",
   "metadata": {},
   "outputs": [],
   "source": [
    "from langchain.tools import DuckDuckGoSearchRun\n",
    "\n",
    "search = DuckDuckGoSearchRun()\n",
    "\n",
    "search_tool = Tool.from_function(\n",
    "    func=search.run,\n",
    "    name=\"Поиск\",\n",
    "    description=\"полезно, когда нужно произвести поиск информации в Интернете\"\n",
    ")"
   ]
  },
  {
   "cell_type": "code",
   "execution_count": 11,
   "id": "9ac4020c-249f-4f89-a8e4-4853ed880286",
   "metadata": {},
   "outputs": [],
   "source": [
    "tools = [search_tool]\n",
    "\n",
    "agent = initialize_agent(\n",
    "    tools=tools,\n",
    "    llm=llm,\n",
    "    agent=\"zero-shot-react-description\",\n",
    "    verbose=True,\n",
    "    max_iterations=5\n",
    ")"
   ]
  },
  {
   "cell_type": "code",
   "execution_count": 12,
   "id": "70c67c86-d11d-4650-af8a-a7702a89f87f",
   "metadata": {},
   "outputs": [
    {
     "name": "stdout",
     "output_type": "stream",
     "text": [
      "\n",
      "\n",
      "\u001b[1m> Entering new AgentExecutor chain...\u001b[0m\n",
      "\u001b[32;1m\u001b[1;3mAction: Поиск\n",
      "Action Input: \"как выводить текст в консоль python\"\u001b[0m\n",
      "Observation: \u001b[36;1m\u001b[1;3mАргумент file функции print() в Python. Аргумент file позволяет перенаправить вывод данных не в консоль, а в указанный файл. Это полезно, когда нужно записать результаты работы программы в файл, чтобы их потом как-нибудь ... Как по умолчанию задаётся параметр end в функции print(), и что это означает для вывода данных на консоль?. по умолчанию параметр end равен нулю, что означает отсутствие вывода.. по умолчанию параметр end равен символу \\n, что ... Ввод и Вывод Данных в Python: Как Input() и Print() Делают Программу Интерактивной? 15 марта 2025 admin Базовый синтаксис Ввод и вывод данных в Python — это важнейшие аспекты разработки любой программы. Как вывести текст на консоль в Ruby; Как вывести текст на консоль в PHP; 1. Использование функции print() Встроенная функция print() в Python позволяет вывести строку на консоль. Пример использования: Расскажем о том какие есть операторы выбора в Python. Узнаем, как вводить и выводить информацию, и на простом примере покажем, как это все можно использовать на практике.\u001b[0m\n",
      "Thought:\u001b[32;1m\u001b[1;3mQuestion: Как выводить текст в консоль python?\n",
      "\n",
      "Thought: для получения ответа на вопрос нужно поискать информацию в интернете.\n",
      "\n",
      "Action: Поиск.\n",
      "\n",
      "Action Input: «как выводить текст в консоль python».\n",
      "\u001b[0m\n",
      "Observation: Поиск. is not a valid tool, try one of [Поиск].\n",
      "Thought:\u001b[32;1m\u001b[1;3mQuestion: как выводить текст в консоль python?\n",
      "\n",
      "Thought: для получения ответа на вопрос нужно поискать информацию в интернете.\n",
      "\n",
      "Action: Поиск.\n",
      "\n",
      "Action Input: «как выводить текст в консоль python».\n",
      "\u001b[0m\n",
      "Observation: Поиск. is not a valid tool, try one of [Поиск].\n",
      "Thought:\u001b[32;1m\u001b[1;3mQuestion: как выводить текст в консоль python?\n",
      "\n",
      "Thought: для получения ответа на вопрос нужно поискать информацию в интернете.\n",
      "\n",
      "Action: Поиск.\n",
      "\n",
      "Action Input: «как выводить текст в консоль python».\n",
      "\u001b[0m\n",
      "Observation: Поиск. is not a valid tool, try one of [Поиск].\n",
      "Thought:\u001b[32;1m\u001b[1;3mQuestion: как выводить текст в консоль python?\n",
      "\n",
      "Thought: для получения ответа на вопрос нужно использовать функцию print() в Python, которая позволяет вывести строку на консоль.\n",
      "\n",
      "Action: Поиск.\n",
      "\n",
      "Action Input: «функция print() в Python».\n",
      "\u001b[0m\n",
      "Observation: Поиск. is not a valid tool, try one of [Поиск].\n",
      "Thought:\u001b[32;1m\u001b[1;3m\u001b[0m\n",
      "\n",
      "\u001b[1m> Finished chain.\u001b[0m\n"
     ]
    },
    {
     "data": {
      "text/plain": [
       "{'input': 'Как выводить текст в консоль python?',\n",
       " 'output': 'Agent stopped due to iteration limit or time limit.'}"
      ]
     },
     "execution_count": 12,
     "metadata": {},
     "output_type": "execute_result"
    }
   ],
   "source": [
    "agent.invoke(\"\"\"Как выводить текст в консоль python?\"\"\")"
   ]
  },
  {
   "cell_type": "code",
   "execution_count": null,
   "id": "4d94da36-3651-4bdd-b250-d6813e6111fb",
   "metadata": {},
   "outputs": [],
   "source": []
  }
 ],
 "metadata": {
  "kernelspec": {
   "display_name": "Python 3 (ipykernel)",
   "language": "python",
   "name": "python3"
  },
  "language_info": {
   "codemirror_mode": {
    "name": "ipython",
    "version": 3
   },
   "file_extension": ".py",
   "mimetype": "text/x-python",
   "name": "python",
   "nbconvert_exporter": "python",
   "pygments_lexer": "ipython3",
   "version": "3.10.11"
  }
 },
 "nbformat": 4,
 "nbformat_minor": 5
}
