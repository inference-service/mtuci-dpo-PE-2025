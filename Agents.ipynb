{
 "cells": [
  {
   "cell_type": "code",
   "execution_count": null,
   "id": "bbee07c5-ed5a-4c87-9def-92767bffd0e9",
   "metadata": {},
   "outputs": [],
   "source": [
    "from dotenv import load_dotenv\n",
    "from langchain_community.llms import YandexGPT\n",
    "import asyncio\n",
    "\n",
    "load_dotenv()"
   ]
  },
  {
   "cell_type": "code",
   "execution_count": null,
   "id": "a8eb9d75-3018-44c1-9998-3eef720cda6e",
   "metadata": {},
   "outputs": [],
   "source": [
    "llm = YandexGPT(\n",
    "    temperature=0,\n",
    "    model_name=\"yandexgpt\"\n",
    ")"
   ]
  },
  {
   "cell_type": "code",
   "execution_count": null,
   "id": "0cb4cbe0-73e9-4789-8fd8-b1842a025547",
   "metadata": {},
   "outputs": [],
   "source": [
    "from langchain.chains import LLMMathChain # Цепочка, интерпретирующая промпт и запускающая интерпретатор Python для вычислений\n",
    "from langchain.agents import Tool"
   ]
  },
  {
   "cell_type": "code",
   "execution_count": null,
   "id": "71719e51-8c26-4d01-8920-3cd01bcae397",
   "metadata": {},
   "outputs": [],
   "source": [
    "# initialize the math tool\n",
    "\n",
    "llm_math = LLMMathChain.from_llm(llm)\n",
    "\n",
    "math_tool = Tool(\n",
    "    name='Калькулятор',\n",
    "    func=llm_math.invoke,\n",
    "    coroutine=llm_math.ainvoke,\n",
    "    description='Полезно, когда необходимо решить вопросы с математическими выражениями.'\n",
    ")\n",
    "\n",
    "# when giving tools to LLM, we must pass as list of tools\n",
    "tools = [math_tool]  # is a list of possible Tools that your agent can use"
   ]
  },
  {
   "cell_type": "code",
   "execution_count": null,
   "id": "389cbe81-62b2-4091-af10-9444f2ffe2ce",
   "metadata": {},
   "outputs": [],
   "source": [
    "from langchain.agents import initialize_agent\n",
    "\n",
    "zero_shot_agent = initialize_agent(\n",
    "    agent=\"zero-shot-react-description\",\n",
    "    tools=tools,\n",
    "    llm=llm,\n",
    "    verbose=True,\n",
    "    max_iterations=10\n",
    ")"
   ]
  },
  {
   "cell_type": "code",
   "execution_count": null,
   "id": "26839f4b-7253-4c6d-bce6-7dda20ca813d",
   "metadata": {},
   "outputs": [],
   "source": [
    "await zero_shot_agent.ainvoke(\"Чему равен квадратный корень из 1215\")"
   ]
  },
  {
   "cell_type": "code",
   "execution_count": null,
   "id": "fb187146-e895-4964-bca1-83487926d667",
   "metadata": {},
   "outputs": [],
   "source": [
    "from langchain.tools import DuckDuckGoSearchRun\n",
    "\n",
    "search = DuckDuckGoSearchRun()\n",
    "\n",
    "search_tool = Tool.from_function(\n",
    "    func=search.run,\n",
    "    name=\"Поиск\",\n",
    "    description=\"полезно, когда нужно произвести поиск информации в Интернете\"\n",
    ")"
   ]
  },
  {
   "cell_type": "code",
   "execution_count": null,
   "id": "9ac4020c-249f-4f89-a8e4-4853ed880286",
   "metadata": {},
   "outputs": [],
   "source": [
    "tools = [search_tool]\n",
    "\n",
    "agent = initialize_agent(\n",
    "    tools=tools,\n",
    "    llm=llm,\n",
    "    agent=\"zero-shot-react-description\",\n",
    "    verbose=True\n",
    ")"
   ]
  },
  {
   "cell_type": "code",
   "execution_count": null,
   "id": "70c67c86-d11d-4650-af8a-a7702a89f87f",
   "metadata": {},
   "outputs": [],
   "source": [
    "agent.invoke(\"\"\"Что происходило со связью в Москве во время Парада Победы 2025 года?\"\"\")"
   ]
  },
  {
   "cell_type": "code",
   "execution_count": null,
   "id": "4d94da36-3651-4bdd-b250-d6813e6111fb",
   "metadata": {},
   "outputs": [],
   "source": []
  }
 ],
 "metadata": {
  "kernelspec": {
   "display_name": "Python 3 (ipykernel)",
   "language": "python",
   "name": "python3"
  },
  "language_info": {
   "codemirror_mode": {
    "name": "ipython",
    "version": 3
   },
   "file_extension": ".py",
   "mimetype": "text/x-python",
   "name": "python",
   "nbconvert_exporter": "python",
   "pygments_lexer": "ipython3",
   "version": "3.10.1"
  }
 },
 "nbformat": 4,
 "nbformat_minor": 5
}
