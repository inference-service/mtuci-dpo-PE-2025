{
 "cells": [
  {
   "cell_type": "code",
   "execution_count": 1,
   "id": "73d5cc26-856b-4167-8267-438639a3b72f",
   "metadata": {},
   "outputs": [
    {
     "ename": "NameError",
     "evalue": "name 'FOLDER_ID' is not defined",
     "output_type": "error",
     "traceback": [
      "\u001b[1;31m---------------------------------------------------------------------------\u001b[0m",
      "\u001b[1;31mNameError\u001b[0m                                 Traceback (most recent call last)",
      "Cell \u001b[1;32mIn[1], line 35\u001b[0m\n\u001b[0;32m     32\u001b[0m         \u001b[38;5;28mprint\u001b[39m(alternative)\n\u001b[0;32m     34\u001b[0m \u001b[38;5;28;01mif\u001b[39;00m \u001b[38;5;18m__name__\u001b[39m \u001b[38;5;241m==\u001b[39m \u001b[38;5;124m\"\u001b[39m\u001b[38;5;124m__main__\u001b[39m\u001b[38;5;124m\"\u001b[39m:\n\u001b[1;32m---> 35\u001b[0m     \u001b[43mmain\u001b[49m\u001b[43m(\u001b[49m\u001b[43m)\u001b[49m\n",
      "Cell \u001b[1;32mIn[1], line 22\u001b[0m, in \u001b[0;36mmain\u001b[1;34m()\u001b[0m\n\u001b[0;32m     20\u001b[0m \u001b[38;5;28;01mdef\u001b[39;00m\u001b[38;5;250m \u001b[39m\u001b[38;5;21mmain\u001b[39m():\n\u001b[0;32m     21\u001b[0m     sdk \u001b[38;5;241m=\u001b[39m YCloudML(\n\u001b[1;32m---> 22\u001b[0m         folder_id\u001b[38;5;241m=\u001b[39m\u001b[43mFOLDER_ID\u001b[49m,\n\u001b[0;32m     23\u001b[0m         auth\u001b[38;5;241m=\u001b[39mIAMTokenAuth(YC_IAM_TOKEN),\n\u001b[0;32m     24\u001b[0m         enable_server_data_logging\u001b[38;5;241m=\u001b[39m\u001b[38;5;28;01mFalse\u001b[39;00m,\n\u001b[0;32m     25\u001b[0m     )\n\u001b[0;32m     27\u001b[0m     result \u001b[38;5;241m=\u001b[39m (\n\u001b[0;32m     28\u001b[0m         sdk\u001b[38;5;241m.\u001b[39mmodels\u001b[38;5;241m.\u001b[39mcompletions(\u001b[38;5;124m\"\u001b[39m\u001b[38;5;124myandexgpt-lite\u001b[39m\u001b[38;5;124m\"\u001b[39m)\u001b[38;5;241m.\u001b[39mconfigure(temperature\u001b[38;5;241m=\u001b[39m\u001b[38;5;241m0.6\u001b[39m)\u001b[38;5;241m.\u001b[39mrun(messages)\n\u001b[0;32m     29\u001b[0m     )\n\u001b[0;32m     31\u001b[0m     \u001b[38;5;28;01mfor\u001b[39;00m alternative \u001b[38;5;129;01min\u001b[39;00m result:\n",
      "\u001b[1;31mNameError\u001b[0m: name 'FOLDER_ID' is not defined"
     ]
    }
   ],
   "source": [
    "from __future__ import annotations\n",
    "from yandex_cloud_ml_sdk import YCloudML\n",
    "from yandex_cloud_ml_sdk.auth import IAMTokenAuth\n",
    "\n",
    "import dotenv, os\n",
    "\n",
    "dotenv.load_dotenv()\n",
    "\n",
    "\n",
    "\n",
    "messages = [\n",
    "    {\n",
    "        \"role\": \"system\",\n",
    "        \"text\": \"Ты умный ассистент\",\n",
    "    },\n",
    "    {\n",
    "        \"role\": \"user\",\n",
    "        \"text\": \"Привет! Какими науками занимался Альберт Эйнштейн?\",\n",
    "    },\n",
    "]\n",
    "\n",
    "def main():\n",
    "    sdk = YCloudML(\n",
    "        folder_id=FOLDER_ID,\n",
    "        auth=IAMTokenAuth(YC_IAM_TOKEN),\n",
    "        enable_server_data_logging=False,\n",
    "    )\n",
    "\n",
    "    result = (\n",
    "        sdk.models.completions(\"yandexgpt-lite\").configure(temperature=0.6).run(messages)\n",
    "    )\n",
    "\n",
    "    for alternative in result:\n",
    "        print(alternative)\n",
    "\n",
    "if __name__ == \"__main__\":\n",
    "    main()"
   ]
  },
  {
   "cell_type": "code",
   "execution_count": null,
   "id": "f81b5e23-f294-44cb-affe-1699afe579d0",
   "metadata": {},
   "outputs": [],
   "source": [
    "Потоковая генерация:"
   ]
  },
  {
   "cell_type": "code",
   "execution_count": 2,
   "id": "dd7f83fd-3393-42ae-9a48-d931a98e7363",
   "metadata": {},
   "outputs": [
    {
     "name": "stdout",
     "output_type": "stream",
     "text": [
      "Alternative(role='assistant', text='О', status=<AlternativeStatus.PARTIAL: 1>, tool_calls=None)\n",
      "Alternative(role='assistant', text='Ошибки сами себя не исправят.', status=<AlternativeStatus.FINAL: 3>, tool_calls=None)\n"
     ]
    }
   ],
   "source": [
    "from __future__ import annotations\n",
    "from yandex_cloud_ml_sdk import YCloudML\n",
    "from yandex_cloud_ml_sdk.auth import IAMTokenAuth\n",
    "\n",
    "messages = [\n",
    "    {\"role\": \"system\", \"text\": \"Найди ошибки в тексте и исправь их\"},\n",
    "    {\"role\": \"user\", \"text\": \"Ашипки саме сибя ни исрпвят.\"},\n",
    "]\n",
    "\n",
    "\n",
    "def main():\n",
    "    sdk = YCloudML(\n",
    "        folder_id=\"b1g5t9rqg85fvc523apg\",\n",
    "        auth=IAMTokenAuth(''),\n",
    "        enable_server_data_logging=False,\n",
    "    )\n",
    "\n",
    "    model = sdk.models.completions(\"yandexgpt-lite\")\n",
    "\n",
    "    for result in model.configure(temperature=0.5).run_stream(messages):\n",
    "        for alternative in result:\n",
    "            print(alternative)\n",
    "\n",
    "\n",
    "if __name__ == \"__main__\":\n",
    "    main()\n"
   ]
  },
  {
   "cell_type": "code",
   "execution_count": null,
   "id": "7e9e1a57-1262-4e9f-93f8-a8053a525e9d",
   "metadata": {},
   "outputs": [],
   "source": [
    "Асинхронная генерация:"
   ]
  },
  {
   "cell_type": "code",
   "execution_count": null,
   "id": "afc6c4fa-a16c-4013-a565-12eb1dd36b8f",
   "metadata": {},
   "outputs": [],
   "source": [
    "from __future__ import annotations\n",
    "import time\n",
    "from yandex_cloud_ml_sdk import YCloudML\n",
    "from yandex_cloud_ml_sdk.auth import IAMTokenAuth\n",
    "\n",
    "messages_1 = [\n",
    "    {\n",
    "        \"role\": \"system\",\n",
    "        \"text\": \"Найди ошибки в тексте и исправь их\",\n",
    "    },\n",
    "    {\n",
    "        \"role\": \"user\",\n",
    "        \"text\": \"\"\"Ламинат подойдет для укладке на кухне или в детской \n",
    "комнате – он не боиться влаги и механических повреждений благодаря \n",
    "защитному слою из облицованных меламиновых пленок толщиной 0,2 мм и \n",
    "обработанным воском замкам.\"\"\",\n",
    "    },\n",
    "]\n",
    "\n",
    "messages_2 = [\n",
    "    {\"role\": \"system\", \"text\": \"Найди ошибки в тексте и исправь их\"},\n",
    "    {\"role\": \"user\", \"text\": \"Ашипки саме сибя ни исрпвят.\"},\n",
    "]\n",
    "\n",
    "\n",
    "def main():\n",
    "\n",
    "    sdk = YCloudML(\n",
    "        folder_id=\"b1g5t9rqg85fvc523apg\",\n",
    "        auth=IAMTokenAuth(''),\n",
    "        enable_server_data_logging=False,\n",
    "    )\n",
    "\n",
    "    model = sdk.models.completions(\"yandexgpt-lite\")\n",
    "\n",
    "    # Variant 1: подождать выполнения операции, используя 5мс периоды time.sleep(5)\n",
    "\n",
    "    print(\"Variant 1:\")\n",
    "\n",
    "    operation = model.configure(temperature=0.5).run_deferred(messages_1)\n",
    "\n",
    "    status = operation.get_status()\n",
    "    while status.is_running:\n",
    "        time.sleep(5)\n",
    "        status = operation.get_status()\n",
    "\n",
    "    result = operation.get_result()\n",
    "    print(result)\n",
    "\n",
    "    # Variant 2: подождать выполнения операции через метод wait()\n",
    "\n",
    "    print(\"Variant 2:\")\n",
    "\n",
    "    operation = model.run_deferred(messages_2)\n",
    "\n",
    "    result = operation.wait()\n",
    "    print(result)\n",
    "\n",
    "\n",
    "if __name__ == \"__main__\":\n",
    "    main()\n"
   ]
  }
 ],
 "metadata": {
  "kernelspec": {
   "display_name": "Python 3 (ipykernel)",
   "language": "python",
   "name": "python3"
  },
  "language_info": {
   "codemirror_mode": {
    "name": "ipython",
    "version": 3
   },
   "file_extension": ".py",
   "mimetype": "text/x-python",
   "name": "python",
   "nbconvert_exporter": "python",
   "pygments_lexer": "ipython3",
   "version": "3.10.11"
  }
 },
 "nbformat": 4,
 "nbformat_minor": 5
}
