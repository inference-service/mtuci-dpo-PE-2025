{
 "cells": [
  {
   "cell_type": "code",
   "execution_count": 1,
   "id": "73d5cc26-856b-4167-8267-438639a3b72f",
   "metadata": {},
   "outputs": [
    {
     "name": "stdout",
     "output_type": "stream",
     "text": [
      "Alternative(role='assistant', text='Альберт Эйнштейн внёс значительный вклад в развитие физики. Он наиболее известен своими работами в области **теоретической физики**, особенно **теории относительности** и **квантовой теории**.\\n\\nСреди его научных достижений:\\n* создание специальной и общей теорий относительности;\\n* разработка квантовой теории фотоэффекта;\\n* открытие индуцированного излучения;\\n* объяснение броуновского движения.', status=<AlternativeStatus.FINAL: 3>, tool_calls=None)\n"
     ]
    }
   ],
   "source": [
    "from __future__ import annotations\n",
    "from yandex_cloud_ml_sdk import YCloudML\n",
    "from yandex_cloud_ml_sdk.auth import IAMTokenAuth\n",
    "\n",
    "messages = [\n",
    "    {\n",
    "        \"role\": \"system\",\n",
    "        \"text\": \"Ты умный ассистент\",\n",
    "    },\n",
    "    {\n",
    "        \"role\": \"user\",\n",
    "        \"text\": \"Привет! Какими науками занимался Альберт Эйнштейн?\",\n",
    "    },\n",
    "]\n",
    "\n",
    "def main():\n",
    "    sdk = YCloudML(\n",
    "        folder_id=\"b1g5t9rqg85fvc523apg\",\n",
    "        auth=IAMTokenAuth(''),\n",
    "        enable_server_data_logging=False,\n",
    "    )\n",
    "\n",
    "    result = (\n",
    "        sdk.models.completions(\"yandexgpt-lite\").configure(temperature=0.6).run(messages)\n",
    "    )\n",
    "\n",
    "    for alternative in result:\n",
    "        print(alternative)\n",
    "\n",
    "if __name__ == \"__main__\":\n",
    "    main()"
   ]
  },
  {
   "cell_type": "code",
   "execution_count": null,
   "id": "f81b5e23-f294-44cb-affe-1699afe579d0",
   "metadata": {},
   "outputs": [],
   "source": [
    "Потоковая генерация:"
   ]
  },
  {
   "cell_type": "code",
   "execution_count": 2,
   "id": "dd7f83fd-3393-42ae-9a48-d931a98e7363",
   "metadata": {},
   "outputs": [
    {
     "name": "stdout",
     "output_type": "stream",
     "text": [
      "Alternative(role='assistant', text='О', status=<AlternativeStatus.PARTIAL: 1>, tool_calls=None)\n",
      "Alternative(role='assistant', text='Ошибки сами себя не исправят.', status=<AlternativeStatus.FINAL: 3>, tool_calls=None)\n"
     ]
    }
   ],
   "source": [
    "from __future__ import annotations\n",
    "from yandex_cloud_ml_sdk import YCloudML\n",
    "from yandex_cloud_ml_sdk.auth import IAMTokenAuth\n",
    "\n",
    "messages = [\n",
    "    {\"role\": \"system\", \"text\": \"Найди ошибки в тексте и исправь их\"},\n",
    "    {\"role\": \"user\", \"text\": \"Ашипки саме сибя ни исрпвят.\"},\n",
    "]\n",
    "\n",
    "\n",
    "def main():\n",
    "    sdk = YCloudML(\n",
    "        folder_id=\"b1g5t9rqg85fvc523apg\",\n",
    "        auth=IAMTokenAuth(''),\n",
    "        enable_server_data_logging=False,\n",
    "    )\n",
    "\n",
    "    model = sdk.models.completions(\"yandexgpt-lite\")\n",
    "\n",
    "    for result in model.configure(temperature=0.5).run_stream(messages):\n",
    "        for alternative in result:\n",
    "            print(alternative)\n",
    "\n",
    "\n",
    "if __name__ == \"__main__\":\n",
    "    main()\n"
   ]
  },
  {
   "cell_type": "code",
   "execution_count": null,
   "id": "7e9e1a57-1262-4e9f-93f8-a8053a525e9d",
   "metadata": {},
   "outputs": [],
   "source": [
    "Асинхронная генерация:"
   ]
  },
  {
   "cell_type": "code",
   "execution_count": null,
   "id": "afc6c4fa-a16c-4013-a565-12eb1dd36b8f",
   "metadata": {},
   "outputs": [],
   "source": [
    "from __future__ import annotations\n",
    "import time\n",
    "from yandex_cloud_ml_sdk import YCloudML\n",
    "from yandex_cloud_ml_sdk.auth import IAMTokenAuth\n",
    "\n",
    "messages_1 = [\n",
    "    {\n",
    "        \"role\": \"system\",\n",
    "        \"text\": \"Найди ошибки в тексте и исправь их\",\n",
    "    },\n",
    "    {\n",
    "        \"role\": \"user\",\n",
    "        \"text\": \"\"\"Ламинат подойдет для укладке на кухне или в детской \n",
    "комнате – он не боиться влаги и механических повреждений благодаря \n",
    "защитному слою из облицованных меламиновых пленок толщиной 0,2 мм и \n",
    "обработанным воском замкам.\"\"\",\n",
    "    },\n",
    "]\n",
    "\n",
    "messages_2 = [\n",
    "    {\"role\": \"system\", \"text\": \"Найди ошибки в тексте и исправь их\"},\n",
    "    {\"role\": \"user\", \"text\": \"Ашипки саме сибя ни исрпвят.\"},\n",
    "]\n",
    "\n",
    "\n",
    "def main():\n",
    "\n",
    "    sdk = YCloudML(\n",
    "        folder_id=\"b1g5t9rqg85fvc523apg\",\n",
    "        auth=IAMTokenAuth(''),\n",
    "        enable_server_data_logging=False,\n",
    "    )\n",
    "\n",
    "    model = sdk.models.completions(\"yandexgpt-lite\")\n",
    "\n",
    "    # Variant 1: подождать выполнения операции, используя 5мс периоды time.sleep(5)\n",
    "\n",
    "    print(\"Variant 1:\")\n",
    "\n",
    "    operation = model.configure(temperature=0.5).run_deferred(messages_1)\n",
    "\n",
    "    status = operation.get_status()\n",
    "    while status.is_running:\n",
    "        time.sleep(5)\n",
    "        status = operation.get_status()\n",
    "\n",
    "    result = operation.get_result()\n",
    "    print(result)\n",
    "\n",
    "    # Variant 2: подождать выполнения операции через метод wait()\n",
    "\n",
    "    print(\"Variant 2:\")\n",
    "\n",
    "    operation = model.run_deferred(messages_2)\n",
    "\n",
    "    result = operation.wait()\n",
    "    print(result)\n",
    "\n",
    "\n",
    "if __name__ == \"__main__\":\n",
    "    main()\n"
   ]
  }
 ],
 "metadata": {
  "kernelspec": {
   "display_name": "Python 3 (ipykernel)",
   "language": "python",
   "name": "python3"
  },
  "language_info": {
   "codemirror_mode": {
    "name": "ipython",
    "version": 3
   },
   "file_extension": ".py",
   "mimetype": "text/x-python",
   "name": "python",
   "nbconvert_exporter": "python",
   "pygments_lexer": "ipython3",
   "version": "3.10.1"
  }
 },
 "nbformat": 4,
 "nbformat_minor": 5
}
