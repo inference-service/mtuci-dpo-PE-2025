{
 "cells": [
  {
   "cell_type": "code",
   "execution_count": 2,
   "id": "a173153d-2eac-4713-9873-4ff40c1e71d6",
   "metadata": {},
   "outputs": [
    {
     "name": "stdout",
     "output_type": "stream",
     "text": [
      "Token(id=1, special=True, text='<s>')\n",
      "Token(id=16861, special=False, text='▁Пользователь')\n",
      "Token(id=125851, special=False, text=':')\n",
      "Token(id=33687, special=False, text='▁foo')\n",
      "Token(id=3, special=True, text='[NL]')\n",
      "Token(id=3, special=True, text='[NL]')\n",
      "Token(id=125904, special=False, text='А')\n",
      "Token(id=845, special=False, text='сси')\n",
      "Token(id=57590, special=False, text='стент')\n",
      "Token(id=125851, special=False, text=':')\n",
      "Token(id=4, special=True, text='[SEP]')\n"
     ]
    }
   ],
   "source": [
    "from __future__ import annotations\n",
    "\n",
    "from yandex_cloud_ml_sdk import YCloudML\n",
    "from yandex_cloud_ml_sdk.auth import IAMTokenAuth\n",
    "\n",
    "def main() -> None:\n",
    "    sdk = YCloudML(\n",
    "        folder_id=\"b1g5t9rqg85fvc523apg\",\n",
    "        auth=IAMTokenAuth('t1.9euelZqRm8uLjsiRmJTPnJKXzIuWnO3rnpWalI2YnMzOls-XyZ7HnsrGzpXl9PcGPHE--e9VemfE3fT3RmpuPvnvVXpnxM3n9euelZqOlMyLnInHzo2Li5zIjJOZyu_8zef1656VmpiWlJeXlJydy8zNiZacl5vG7_3F656Vmo6UzIucicfOjYuLnMiMk5nK.udOrDKUDZHGAzdLiyIjZqDNvLsgouvywTyO6HrW2e-9qVGMa9P5s7qg2x68Fc5Xb1O7XiJaVUnPnJ3vlUrBlBg'),\n",
    "        enable_server_data_logging=False,\n",
    "    )\n",
    "\n",
    "    model = sdk.models.completions('yandexgpt')\n",
    "\n",
    "    result = model.tokenize(\"foo\")\n",
    "\n",
    "    for token in result:\n",
    "        print(token)\n",
    "\n",
    "\n",
    "if __name__ == '__main__':\n",
    "    main()"
   ]
  },
  {
   "cell_type": "code",
   "execution_count": null,
   "id": "5710973e-f00c-4da0-8080-059a3f27b5d6",
   "metadata": {},
   "outputs": [],
   "source": []
  }
 ],
 "metadata": {
  "kernelspec": {
   "display_name": "Python 3 (ipykernel)",
   "language": "python",
   "name": "python3"
  },
  "language_info": {
   "codemirror_mode": {
    "name": "ipython",
    "version": 3
   },
   "file_extension": ".py",
   "mimetype": "text/x-python",
   "name": "python",
   "nbconvert_exporter": "python",
   "pygments_lexer": "ipython3",
   "version": "3.10.1"
  }
 },
 "nbformat": 4,
 "nbformat_minor": 5
}
