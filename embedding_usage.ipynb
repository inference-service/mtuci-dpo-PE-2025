{
 "cells": [
  {
   "cell_type": "code",
   "execution_count": 4,
   "id": "db65304a-317e-4b23-ba35-a39b854c7512",
   "metadata": {},
   "outputs": [
    {
     "name": "stdout",
     "output_type": "stream",
     "text": [
      "Александр Сергеевич Пушкин (26 мая [6 июня] 1799, Москва — 29 января [10 февраля] 1837, Санкт-Петербург)\n",
      "    — русский поэт, драматург и прозаик, заложивший основы русского реалистического направления,\n",
      "    литературный критик и теоретик литературы, историк, публицист, журналист.\n"
     ]
    }
   ],
   "source": [
    "from __future__ import annotations\n",
    "\n",
    "from yandex_cloud_ml_sdk import YCloudML\n",
    "\n",
    "from yandex_cloud_ml_sdk.auth import IAMTokenAuth\n",
    "\n",
    "import dotenv\n",
    "dotenv.load_dotenv()\n",
    "config = dotenv.dotenv_values()\n",
    "\n",
    "doc_texts = [\n",
    "    \"\"\"Александр Сергеевич Пушкин (26 мая [6 июня] 1799, Москва — 29 января [10 февраля] 1837, Санкт-Петербург)\n",
    "    — русский поэт, драматург и прозаик, заложивший основы русского реалистического направления,\n",
    "    литературный критик и теоретик литературы, историк, публицист, журналист.\"\"\",\n",
    "    \"\"\"Ромашка — род однолетних цветковых растений семейства астровые,\n",
    "    или сложноцветные, по современной классификации объединяет около 70 видов невысоких пахучих трав,\n",
    "    цветущих с первого года жизни.\"\"\"\n",
    "]\n",
    "\n",
    "\n",
    "import numpy as np\n",
    "from scipy.spatial.distance import cdist\n",
    "\n",
    "sdk = YCloudML(\n",
    "    folder_id=config[\"YC_FOLDER_ID\"],\n",
    "    auth=IAMTokenAuth(config[\"YC_IAM_TOKEN\"]),\n",
    "    enable_server_data_logging=False,\n",
    ")\n",
    "\n",
    "query_model = sdk.models.text_embeddings('query')\n",
    "query_embedding = query_model.run(\"когда день рождения Пушкина?\")\n",
    "\n",
    "doc_model = sdk.models.text_embeddings('doc')\n",
    "doc_embeddings = [doc_model.run(text) for text in doc_texts]\n",
    "\n",
    "query_embedding = np.array(query_embedding)\n",
    "\n",
    "dist = cdist([query_embedding], doc_embeddings, metric='cosine')\n",
    "sim = 1 - dist\n",
    "result = doc_texts[np.argmax(sim)]\n",
    "print(result)\n",
    "\n"
   ]
  },
  {
   "cell_type": "code",
   "execution_count": 5,
   "id": "06ba7a82-9823-4903-9aaa-7475596e4604",
   "metadata": {},
   "outputs": [
    {
     "name": "stdout",
     "output_type": "stream",
     "text": [
      "Ромашка — род однолетних цветковых растений семейства астровые,\n",
      "    или сложноцветные, по современной классификации объединяет около 70 видов невысоких пахучих трав,\n",
      "    цветущих с первого года жизни.\n"
     ]
    }
   ],
   "source": [
    "query_embedding = query_model.run(\"что такое ромашка?\")\n",
    "query_embedding = np.array(query_embedding)\n",
    "\n",
    "dist = cdist([query_embedding], doc_embeddings, metric='cosine')\n",
    "sim = 1 - dist\n",
    "result = doc_texts[np.argmax(sim)]\n",
    "print(result)"
   ]
  },
  {
   "cell_type": "code",
   "execution_count": null,
   "id": "a35b53fe-94e2-4ae3-937a-0523657216ef",
   "metadata": {},
   "outputs": [],
   "source": []
  }
 ],
 "metadata": {
  "kernelspec": {
   "display_name": "Python 3 (ipykernel)",
   "language": "python",
   "name": "python3"
  },
  "language_info": {
   "codemirror_mode": {
    "name": "ipython",
    "version": 3
   },
   "file_extension": ".py",
   "mimetype": "text/x-python",
   "name": "python",
   "nbconvert_exporter": "python",
   "pygments_lexer": "ipython3",
   "version": "3.10.1"
  }
 },
 "nbformat": 4,
 "nbformat_minor": 5
}
