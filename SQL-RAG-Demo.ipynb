{
 "cells": [
  {
   "cell_type": "markdown",
   "id": "03a5c00c",
   "metadata": {},
   "source": [
    "## Конвертация естественного языка в запросы SQL"
   ]
  },
  {
   "cell_type": "markdown",
   "id": "d06633c3",
   "metadata": {},
   "source": [
    "В грубом приближении этапы работы RAG через SQL заключаются в следующих пунктах:\n",
    "\n",
    "- `Привести вопрос пользователя на естественном языке к запросу SQL`\n",
    "- `Исполнить запрос`\n",
    "- `Дать модели результат и сгенерировать ответ пользователю с учётом полученных данных`"
   ]
  },
  {
   "cell_type": "code",
   "execution_count": 1,
   "id": "5ddeeaf6",
   "metadata": {},
   "outputs": [],
   "source": [
    "from langchain.utilities import SQLDatabase\n",
    "from langchain_community.llms import YandexGPT\n",
    "from langchain_community.chat_models import ChatYandexGPT\n",
    "from langchain_core.messages import HumanMessage, SystemMessage\n",
    "from langchain_experimental.sql import SQLDatabaseChain\n",
    "from langchain.chains import create_sql_query_chain\n",
    "from langchain.prompts import PromptTemplate\n",
    "from dotenv import load_dotenv\n",
    "import sqlite3\n",
    "\n",
    "from langchain_core.globals import set_debug\n",
    "#set_debug(True)"
   ]
  },
  {
   "cell_type": "code",
   "execution_count": null,
   "id": "14e5a5ad-336b-4746-8665-01edaa5b871b",
   "metadata": {},
   "outputs": [],
   "source": [
    "from langchain.chains.sql_database.prompt import PROMPT\n",
    "print(PROMPT.template)"
   ]
  },
  {
   "cell_type": "code",
   "execution_count": 2,
   "id": "b30624fa",
   "metadata": {},
   "outputs": [
    {
     "data": {
      "text/plain": [
       "True"
      ]
     },
     "execution_count": 2,
     "metadata": {},
     "output_type": "execute_result"
    }
   ],
   "source": [
    "load_dotenv()"
   ]
  },
  {
   "cell_type": "code",
   "execution_count": null,
   "id": "e3470b8e-3e21-4164-952f-0713ea1bfad3",
   "metadata": {},
   "outputs": [],
   "source": [
    "import pandas as pd\n",
    "\n",
    "database_name = \"analytics.db\"\n",
    "csv_files = {\n",
    "    \"customer\":\"data/customer.csv\",\n",
    "    \"employee\":\"data/employee.csv\",\n",
    "    \"sale\":\"data/sale.csv\"\n",
    "}\n",
    "\n",
    "conn = sqlite3.connect(database_name)\n",
    "\n",
    "for table_name, csv_path in csv_files.items():\n",
    "    df = pd.read_csv(csv_path)\n",
    "    df.to_sql(\n",
    "        name=table_name,\n",
    "        con=conn,\n",
    "        if_exists=\"replace\",\n",
    "        index=False\n",
    "    )\n",
    "\n",
    "conn.close()"
   ]
  },
  {
   "cell_type": "code",
   "execution_count": 3,
   "id": "203dcbe2",
   "metadata": {},
   "outputs": [],
   "source": [
    "llm = ChatYandexGPT(model_name=\"yandexgpt\", temperature=0)"
   ]
  },
  {
   "cell_type": "code",
   "execution_count": 6,
   "id": "a5ac620a",
   "metadata": {},
   "outputs": [
    {
     "name": "stdout",
     "output_type": "stream",
     "text": [
      "input_variables=['input', 'table_info'] input_types={} partial_variables={'top_k': '5'} template='You are a SQLite expert. Given an input question, first create a syntactically correct SQLite query to run, then look at the results of the query and return the answer to the input question.\\nUnless the user specifies in the question a specific number of examples to obtain, query for at most {top_k} results using the LIMIT clause as per SQLite. You can order the results to return the most informative data in the database.\\nNever query for all columns from a table. You must query only the columns that are needed to answer the question. Wrap each column name in double quotes (\") to denote them as delimited identifiers.\\nPay attention to use only the column names you can see in the tables below. Be careful to not query for columns that do not exist. Also, pay attention to which column is in which table.\\nPay attention to use date(\\'now\\') function to get the current date, if the question involves \"today\".\\n\\nUse the following format:\\n\\nQuestion: Question here\\nSQLQuery: SQL Query to run\\nSQLResult: Result of the SQLQuery\\nAnswer: Final answer here\\n\\nOnly use the following tables:\\n{table_info}\\n\\nQuestion: {input}'\n"
     ]
    }
   ],
   "source": [
    "db = SQLDatabase.from_uri(\"sqlite:///analytics.db\", sample_rows_in_table_info=1)\n",
    "\n",
    "template = '''Ты эксперт по SQLite. Получив вопрос после Question, сперва сгенерируй синтаксически верный SQLite запрос, отвечающий на этот вопрос, и запиши его, затем просмотри результат запроса и верни ответ на вопрос.\n",
    "Запрашивай не более чем {top_k} результатов за запрос\n",
    "Используй следующий формат:\n",
    "\n",
    "Question: \"Вопрос здесь\"\n",
    "SQLQuery: \"SQL запрос для выполнения\"\n",
    "SQLResult: \"Результат SQL запроса\"\n",
    "Answer: \"Конечный ответ здесь\"\n",
    "\n",
    "Используй только следующие имена таблиц:\n",
    "\n",
    "{table_info}.\n",
    "\n",
    "Question: {input}'''\n",
    "\n",
    "prompt = PromptTemplate.from_template(template)\n",
    "\n",
    "chain = create_sql_query_chain(llm, db,)\n",
    "\n",
    "print(chain.middle[1])"
   ]
  },
  {
   "cell_type": "code",
   "execution_count": 5,
   "id": "8fb4c912",
   "metadata": {},
   "outputs": [
    {
     "name": "stdout",
     "output_type": "stream",
     "text": [
      "sqlite\n",
      "['customer', 'employee', 'sale']\n"
     ]
    },
    {
     "data": {
      "text/plain": [
       "'[(1000,)]'"
      ]
     },
     "execution_count": 5,
     "metadata": {},
     "output_type": "execute_result"
    }
   ],
   "source": [
    "print(db.dialect)\n",
    "print(db.get_usable_table_names())\n",
    "db.run(\"SELECT count(*) FROM customer LIMIT 10;\")"
   ]
  },
  {
   "cell_type": "code",
   "execution_count": 7,
   "id": "fb6515e1",
   "metadata": {},
   "outputs": [
    {
     "data": {
      "text/plain": [
       "'```\\nSELECT COUNT(*) FROM employee;\\n```'"
      ]
     },
     "execution_count": 7,
     "metadata": {},
     "output_type": "execute_result"
    }
   ],
   "source": [
    "response = chain.invoke({\"question\": \"Сколько у нас работников?\"})\n",
    "response"
   ]
  },
  {
   "cell_type": "code",
   "execution_count": 11,
   "id": "447f0deb-13f2-47d7-b9a7-363ef835f206",
   "metadata": {},
   "outputs": [
    {
     "data": {
      "text/plain": [
       "'SELECT COUNT(*) FROM employee;'"
      ]
     },
     "execution_count": 11,
     "metadata": {},
     "output_type": "execute_result"
    }
   ],
   "source": [
    "response.strip(\"`\\n\")"
   ]
  },
  {
   "cell_type": "code",
   "execution_count": 12,
   "id": "1d66e095",
   "metadata": {},
   "outputs": [
    {
     "data": {
      "text/plain": [
       "'[(11,)]'"
      ]
     },
     "execution_count": 12,
     "metadata": {},
     "output_type": "execute_result"
    }
   ],
   "source": [
    "db.run(response.strip(\"`\\n\"))"
   ]
  },
  {
   "cell_type": "code",
   "execution_count": null,
   "id": "560739a8-a879-46a1-92ce-822ffbdb5473",
   "metadata": {},
   "outputs": [],
   "source": [
    "response = chain.invoke({\"question\": \"Сколько клиентов из Бронкса?\"})\n",
    "print(response)\n",
    "print(db.run(response.strip(\"`\\n\")))"
   ]
  },
  {
   "cell_type": "code",
   "execution_count": 16,
   "id": "b3d18b40",
   "metadata": {},
   "outputs": [
    {
     "name": "stdout",
     "output_type": "stream",
     "text": [
      "```\n",
      "SELECT COUNT(customerid) \n",
      "FROM customer \n",
      "WHERE city = \"Bronx\";\n",
      "```\n",
      "[(2,)]\n"
     ]
    }
   ],
   "source": [
    "response = chain.invoke({\"question\": \"Сколько клиентов из Бронкса (используй английское название)?\"})\n",
    "print(response)\n",
    "print(db.run(response.strip(\"`\\n\")))"
   ]
  },
  {
   "cell_type": "code",
   "execution_count": 14,
   "id": "13a5754c",
   "metadata": {},
   "outputs": [
    {
     "name": "stdout",
     "output_type": "stream",
     "text": [
      "```\n",
      "SELECT state, COUNT(*) AS count \n",
      "FROM customer \n",
      "GROUP BY state \n",
      "ORDER BY count DESC \n",
      "LIMIT 1;\n",
      "```\n",
      "[('NY', 79)]\n"
     ]
    }
   ],
   "source": [
    "response = chain.invoke({\"question\": \"Из какого штата наибольшее количество клиентов?\"})\n",
    "print(response)\n",
    "print(db.run(response.strip(\"`\\n\")))"
   ]
  },
  {
   "cell_type": "code",
   "execution_count": null,
   "id": "c293f9d4",
   "metadata": {},
   "outputs": [],
   "source": [
    "response = chain.invoke({\"question\": \"Найди мне топ 5 клиентов, заплативших наибольшую стоимость пересылки\"})\n",
    "print(response)\n",
    "print(db.run(response.strip(\"`\\n\")))"
   ]
  },
  {
   "cell_type": "code",
   "execution_count": null,
   "id": "ca635ee7",
   "metadata": {},
   "outputs": [],
   "source": []
  },
  {
   "cell_type": "code",
   "execution_count": null,
   "id": "51155224",
   "metadata": {},
   "outputs": [],
   "source": []
  },
  {
   "cell_type": "code",
   "execution_count": null,
   "id": "5d93f858",
   "metadata": {},
   "outputs": [],
   "source": []
  },
  {
   "cell_type": "code",
   "execution_count": null,
   "id": "9a11622e",
   "metadata": {},
   "outputs": [],
   "source": []
  }
 ],
 "metadata": {
  "kernelspec": {
   "display_name": "Python 3 (ipykernel)",
   "language": "python",
   "name": "python3"
  },
  "language_info": {
   "codemirror_mode": {
    "name": "ipython",
    "version": 3
   },
   "file_extension": ".py",
   "mimetype": "text/x-python",
   "name": "python",
   "nbconvert_exporter": "python",
   "pygments_lexer": "ipython3",
   "version": "3.10.1"
  }
 },
 "nbformat": 4,
 "nbformat_minor": 5
}
