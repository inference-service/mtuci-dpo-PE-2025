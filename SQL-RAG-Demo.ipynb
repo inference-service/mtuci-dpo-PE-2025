{
 "cells": [
  {
   "cell_type": "markdown",
   "id": "03a5c00c",
   "metadata": {},
   "source": [
    "## Конвертация естественного языка в запросы SQL"
   ]
  },
  {
   "cell_type": "markdown",
   "id": "d06633c3",
   "metadata": {},
   "source": [
    "В грубом приближении этапы работы RAG через SQL заключаются в следующих пунктах:\n",
    "\n",
    "- `Привести вопрос пользователя на естественном языке к запросу SQL`\n",
    "- `Исполнить запрос`\n",
    "- `Дать модели результат и сгенерировать ответ пользователю с учётом полученных данных`"
   ]
  },
  {
   "cell_type": "code",
   "execution_count": 16,
   "id": "5ddeeaf6",
   "metadata": {},
   "outputs": [],
   "source": [
    "from langchain.utilities import SQLDatabase\n",
    "from langchain_community.llms import YandexGPT\n",
    "from langchain_community.chat_models import ChatYandexGPT\n",
    "from langchain_core.messages import HumanMessage, SystemMessage\n",
    "from langchain_experimental.sql import SQLDatabaseChain\n",
    "from langchain.chains import create_sql_query_chain\n",
    "from langchain.prompts import PromptTemplate\n",
    "from dotenv import load_dotenv\n",
    "import sqlite3\n",
    "\n",
    "from langchain_core.globals import set_debug\n",
    "set_debug(True)"
   ]
  },
  {
   "cell_type": "code",
   "execution_count": 2,
   "id": "14e5a5ad-336b-4746-8665-01edaa5b871b",
   "metadata": {},
   "outputs": [
    {
     "name": "stdout",
     "output_type": "stream",
     "text": [
      "Given an input question, first create a syntactically correct {dialect} query to run, then look at the results of the query and return the answer. Unless the user specifies in his question a specific number of examples he wishes to obtain, always limit your query to at most {top_k} results. You can order the results by a relevant column to return the most interesting examples in the database.\n",
      "\n",
      "Never query for all the columns from a specific table, only ask for a few relevant columns given the question.\n",
      "\n",
      "Pay attention to use only the column names that you can see in the schema description. Be careful to not query for columns that do not exist. Also, pay attention to which column is in which table.\n",
      "\n",
      "Use the following format:\n",
      "\n",
      "Question: Question here\n",
      "SQLQuery: SQL Query to run\n",
      "SQLResult: Result of the SQLQuery\n",
      "Answer: Final answer here\n",
      "\n",
      "Only use the following tables:\n",
      "{table_info}\n",
      "\n",
      "Question: {input}\n"
     ]
    }
   ],
   "source": [
    "from langchain.chains.sql_database.prompt import PROMPT\n",
    "print(PROMPT.template)"
   ]
  },
  {
   "cell_type": "code",
   "execution_count": 3,
   "id": "b30624fa",
   "metadata": {},
   "outputs": [
    {
     "data": {
      "text/plain": [
       "True"
      ]
     },
     "execution_count": 3,
     "metadata": {},
     "output_type": "execute_result"
    }
   ],
   "source": [
    "load_dotenv()"
   ]
  },
  {
   "cell_type": "code",
   "execution_count": 4,
   "id": "e3470b8e-3e21-4164-952f-0713ea1bfad3",
   "metadata": {},
   "outputs": [],
   "source": [
    "import pandas as pd\n",
    "\n",
    "database_name = \"analytics.db\"\n",
    "csv_files = {\n",
    "    \"customer\":\"data/customer.csv\",\n",
    "    \"employee\":\"data/employee.csv\",\n",
    "    \"sale\":\"data/sale.csv\"\n",
    "}\n",
    "\n",
    "conn = sqlite3.connect(database_name)\n",
    "\n",
    "for table_name, csv_path in csv_files.items():\n",
    "    df = pd.read_csv(csv_path)\n",
    "    df.to_sql(\n",
    "        name=table_name,\n",
    "        con=conn,\n",
    "        if_exists=\"replace\",\n",
    "        index=False\n",
    "    )\n",
    "\n",
    "conn.close()"
   ]
  },
  {
   "cell_type": "code",
   "execution_count": 5,
   "id": "203dcbe2",
   "metadata": {},
   "outputs": [],
   "source": [
    "llm = ChatYandexGPT(model_name=\"yandexgpt\", temperature=0)"
   ]
  },
  {
   "cell_type": "code",
   "execution_count": 7,
   "id": "a5ac620a",
   "metadata": {},
   "outputs": [
    {
     "name": "stdout",
     "output_type": "stream",
     "text": [
      "input_variables=['input', 'table_info'] input_types={} partial_variables={'top_k': '5'} template='You are a SQLite expert. Given an input question, first create a syntactically correct SQLite query to run, then look at the results of the query and return the answer to the input question.\\nUnless the user specifies in the question a specific number of examples to obtain, query for at most {top_k} results using the LIMIT clause as per SQLite. You can order the results to return the most informative data in the database.\\nNever query for all columns from a table. You must query only the columns that are needed to answer the question. Wrap each column name in double quotes (\") to denote them as delimited identifiers.\\nPay attention to use only the column names you can see in the tables below. Be careful to not query for columns that do not exist. Also, pay attention to which column is in which table.\\nPay attention to use date(\\'now\\') function to get the current date, if the question involves \"today\".\\n\\nUse the following format:\\n\\nQuestion: Question here\\nSQLQuery: SQL Query to run\\nSQLResult: Result of the SQLQuery\\nAnswer: Final answer here\\n\\nOnly use the following tables:\\n{table_info}\\n\\nQuestion: {input}'\n"
     ]
    }
   ],
   "source": [
    "db = SQLDatabase.from_uri(\"sqlite:///analytics.db\", sample_rows_in_table_info=1)\n",
    "\n",
    "template = '''Ты эксперт по SQLite. Получив вопрос после Question, сперва сгенерируй синтаксически верный SQLite запрос, отвечающий на этот вопрос, и запиши его, затем просмотри результат запроса и верни ответ на вопрос.\n",
    "Запрашивай не более чем {top_k} результатов за запрос\n",
    "Используй следующий формат:\n",
    "\n",
    "Question: \"Вопрос здесь\"\n",
    "SQLQuery: \"SQL запрос для выполнения\"\n",
    "SQLResult: \"Результат SQL запроса\"\n",
    "Answer: \"Конечный ответ здесь\"\n",
    "\n",
    "Используй только следующие имена таблиц:\n",
    "\n",
    "{table_info}.\n",
    "\n",
    "Question: {input}'''\n",
    "\n",
    "prompt = PromptTemplate.from_template(template)\n",
    "\n",
    "chain = create_sql_query_chain(llm, db,)\n",
    "\n",
    "print(chain.middle[1])"
   ]
  },
  {
   "cell_type": "code",
   "execution_count": 8,
   "id": "8fb4c912",
   "metadata": {},
   "outputs": [
    {
     "name": "stdout",
     "output_type": "stream",
     "text": [
      "sqlite\n",
      "['customer', 'employee', 'sale']\n"
     ]
    },
    {
     "data": {
      "text/plain": [
       "'[(1000,)]'"
      ]
     },
     "execution_count": 8,
     "metadata": {},
     "output_type": "execute_result"
    }
   ],
   "source": [
    "print(db.dialect)\n",
    "print(db.get_usable_table_names())\n",
    "db.run(\"SELECT count(*) FROM customer LIMIT 10;\")"
   ]
  },
  {
   "cell_type": "code",
   "execution_count": 17,
   "id": "fb6515e1",
   "metadata": {},
   "outputs": [
    {
     "name": "stdout",
     "output_type": "stream",
     "text": [
      "\u001b[32;1m\u001b[1;3m[chain/start]\u001b[0m \u001b[1m[chain:RunnableSequence] Entering Chain run with input:\n",
      "\u001b[0m{\n",
      "  \"question\": \"Сколько у нас работников?\"\n",
      "}\n",
      "\u001b[32;1m\u001b[1;3m[chain/start]\u001b[0m \u001b[1m[chain:RunnableSequence > chain:RunnableAssign<input,table_info>] Entering Chain run with input:\n",
      "\u001b[0m{\n",
      "  \"question\": \"Сколько у нас работников?\"\n",
      "}\n",
      "\u001b[32;1m\u001b[1;3m[chain/start]\u001b[0m \u001b[1m[chain:RunnableSequence > chain:RunnableAssign<input,table_info> > chain:RunnableParallel<input,table_info>] Entering Chain run with input:\n",
      "\u001b[0m{\n",
      "  \"question\": \"Сколько у нас работников?\"\n",
      "}\n",
      "\u001b[32;1m\u001b[1;3m[chain/start]\u001b[0m \u001b[1m[chain:RunnableSequence > chain:RunnableAssign<input,table_info> > chain:RunnableParallel<input,table_info> > chain:RunnableLambda] Entering Chain run with input:\n",
      "\u001b[0m{\n",
      "  \"question\": \"Сколько у нас работников?\"\n",
      "}\n",
      "\u001b[36;1m\u001b[1;3m[chain/end]\u001b[0m \u001b[1m[chain:RunnableSequence > chain:RunnableAssign<input,table_info> > chain:RunnableParallel<input,table_info> > chain:RunnableLambda] [0ms] Exiting Chain run with output:\n",
      "\u001b[0m{\n",
      "  \"output\": \"Сколько у нас работников?\\nSQLQuery: \"\n",
      "}\n",
      "\u001b[32;1m\u001b[1;3m[chain/start]\u001b[0m \u001b[1m[chain:RunnableSequence > chain:RunnableAssign<input,table_info> > chain:RunnableParallel<input,table_info> > chain:RunnableLambda] Entering Chain run with input:\n",
      "\u001b[0m{\n",
      "  \"question\": \"Сколько у нас работников?\"\n",
      "}\n",
      "\u001b[36;1m\u001b[1;3m[chain/end]\u001b[0m \u001b[1m[chain:RunnableSequence > chain:RunnableAssign<input,table_info> > chain:RunnableParallel<input,table_info> > chain:RunnableLambda] [0ms] Exiting Chain run with output:\n",
      "\u001b[0m{\n",
      "  \"output\": \"\\nCREATE TABLE customer (\\n\\tcustomerid INTEGER, \\n\\tfirstname TEXT, \\n\\tlastname TEXT, \\n\\tstreetaddress TEXT, \\n\\tcity TEXT, \\n\\tstate TEXT, \\n\\tpostalcode TEXT, \\n\\tcountry TEXT, \\n\\tphone TEXT\\n)\\n\\n/*\\n1 rows from customer table:\\ncustomerid\\tfirstname\\tlastname\\tstreetaddress\\tcity\\tstate\\tpostalcode\\tcountry\\tphone\\n12\\tJames\\tDominick\\t4 Mast Ct\\tPortsmouth\\tVA\\t23703\\tUSA\\t(757) 686-2992\\n*/\\n\\n\\nCREATE TABLE employee (\\n\\temployee_id INTEGER, \\n\\tfirst_name TEXT, \\n\\tlast_name TEXT, \\n\\temail TEXT, \\n\\tphone_number TEXT, \\n\\thire_date TEXT, \\n\\tjob_id TEXT, \\n\\tsalary REAL, \\n\\tmanager_id REAL, \\n\\tdepartment_id INTEGER\\n)\\n\\n/*\\n1 rows from employee table:\\nemployee_id\\tfirst_name\\tlast_name\\temail\\tphone_number\\thire_date\\tjob_id\\tsalary\\tmanager_id\\tdepartment_id\\n100\\tSteven\\tKing\\tsteven.king@example.com\\t515.123.4567\\t2003-06-17\\tAD_PRES\\t24000.0\\tNone\\t90\\n*/\\n\\n\\nCREATE TABLE sale (\\n\\tsaleid INTEGER, \\n\\tsaledate TEXT, \\n\\tcustomerid INTEGER, \\n\\ttax REAL, \\n\\tshipping REAL\\n)\\n\\n/*\\n1 rows from sale table:\\nsaleid\\tsaledate\\tcustomerid\\ttax\\tshipping\\n191228\\t2013-12-31\\t1134\\t0.0\\t44.37\\n*/\"\n",
      "}\n",
      "\u001b[36;1m\u001b[1;3m[chain/end]\u001b[0m \u001b[1m[chain:RunnableSequence > chain:RunnableAssign<input,table_info> > chain:RunnableParallel<input,table_info>] [5ms] Exiting Chain run with output:\n",
      "\u001b[0m{\n",
      "  \"input\": \"Сколько у нас работников?\\nSQLQuery: \",\n",
      "  \"table_info\": \"\\nCREATE TABLE customer (\\n\\tcustomerid INTEGER, \\n\\tfirstname TEXT, \\n\\tlastname TEXT, \\n\\tstreetaddress TEXT, \\n\\tcity TEXT, \\n\\tstate TEXT, \\n\\tpostalcode TEXT, \\n\\tcountry TEXT, \\n\\tphone TEXT\\n)\\n\\n/*\\n1 rows from customer table:\\ncustomerid\\tfirstname\\tlastname\\tstreetaddress\\tcity\\tstate\\tpostalcode\\tcountry\\tphone\\n12\\tJames\\tDominick\\t4 Mast Ct\\tPortsmouth\\tVA\\t23703\\tUSA\\t(757) 686-2992\\n*/\\n\\n\\nCREATE TABLE employee (\\n\\temployee_id INTEGER, \\n\\tfirst_name TEXT, \\n\\tlast_name TEXT, \\n\\temail TEXT, \\n\\tphone_number TEXT, \\n\\thire_date TEXT, \\n\\tjob_id TEXT, \\n\\tsalary REAL, \\n\\tmanager_id REAL, \\n\\tdepartment_id INTEGER\\n)\\n\\n/*\\n1 rows from employee table:\\nemployee_id\\tfirst_name\\tlast_name\\temail\\tphone_number\\thire_date\\tjob_id\\tsalary\\tmanager_id\\tdepartment_id\\n100\\tSteven\\tKing\\tsteven.king@example.com\\t515.123.4567\\t2003-06-17\\tAD_PRES\\t24000.0\\tNone\\t90\\n*/\\n\\n\\nCREATE TABLE sale (\\n\\tsaleid INTEGER, \\n\\tsaledate TEXT, \\n\\tcustomerid INTEGER, \\n\\ttax REAL, \\n\\tshipping REAL\\n)\\n\\n/*\\n1 rows from sale table:\\nsaleid\\tsaledate\\tcustomerid\\ttax\\tshipping\\n191228\\t2013-12-31\\t1134\\t0.0\\t44.37\\n*/\"\n",
      "}\n",
      "\u001b[36;1m\u001b[1;3m[chain/end]\u001b[0m \u001b[1m[chain:RunnableSequence > chain:RunnableAssign<input,table_info>] [5ms] Exiting Chain run with output:\n",
      "\u001b[0m{\n",
      "  \"question\": \"Сколько у нас работников?\",\n",
      "  \"input\": \"Сколько у нас работников?\\nSQLQuery: \",\n",
      "  \"table_info\": \"\\nCREATE TABLE customer (\\n\\tcustomerid INTEGER, \\n\\tfirstname TEXT, \\n\\tlastname TEXT, \\n\\tstreetaddress TEXT, \\n\\tcity TEXT, \\n\\tstate TEXT, \\n\\tpostalcode TEXT, \\n\\tcountry TEXT, \\n\\tphone TEXT\\n)\\n\\n/*\\n1 rows from customer table:\\ncustomerid\\tfirstname\\tlastname\\tstreetaddress\\tcity\\tstate\\tpostalcode\\tcountry\\tphone\\n12\\tJames\\tDominick\\t4 Mast Ct\\tPortsmouth\\tVA\\t23703\\tUSA\\t(757) 686-2992\\n*/\\n\\n\\nCREATE TABLE employee (\\n\\temployee_id INTEGER, \\n\\tfirst_name TEXT, \\n\\tlast_name TEXT, \\n\\temail TEXT, \\n\\tphone_number TEXT, \\n\\thire_date TEXT, \\n\\tjob_id TEXT, \\n\\tsalary REAL, \\n\\tmanager_id REAL, \\n\\tdepartment_id INTEGER\\n)\\n\\n/*\\n1 rows from employee table:\\nemployee_id\\tfirst_name\\tlast_name\\temail\\tphone_number\\thire_date\\tjob_id\\tsalary\\tmanager_id\\tdepartment_id\\n100\\tSteven\\tKing\\tsteven.king@example.com\\t515.123.4567\\t2003-06-17\\tAD_PRES\\t24000.0\\tNone\\t90\\n*/\\n\\n\\nCREATE TABLE sale (\\n\\tsaleid INTEGER, \\n\\tsaledate TEXT, \\n\\tcustomerid INTEGER, \\n\\ttax REAL, \\n\\tshipping REAL\\n)\\n\\n/*\\n1 rows from sale table:\\nsaleid\\tsaledate\\tcustomerid\\ttax\\tshipping\\n191228\\t2013-12-31\\t1134\\t0.0\\t44.37\\n*/\"\n",
      "}\n",
      "\u001b[32;1m\u001b[1;3m[chain/start]\u001b[0m \u001b[1m[chain:RunnableSequence > chain:RunnableLambda] Entering Chain run with input:\n",
      "\u001b[0m{\n",
      "  \"question\": \"Сколько у нас работников?\",\n",
      "  \"input\": \"Сколько у нас работников?\\nSQLQuery: \",\n",
      "  \"table_info\": \"\\nCREATE TABLE customer (\\n\\tcustomerid INTEGER, \\n\\tfirstname TEXT, \\n\\tlastname TEXT, \\n\\tstreetaddress TEXT, \\n\\tcity TEXT, \\n\\tstate TEXT, \\n\\tpostalcode TEXT, \\n\\tcountry TEXT, \\n\\tphone TEXT\\n)\\n\\n/*\\n1 rows from customer table:\\ncustomerid\\tfirstname\\tlastname\\tstreetaddress\\tcity\\tstate\\tpostalcode\\tcountry\\tphone\\n12\\tJames\\tDominick\\t4 Mast Ct\\tPortsmouth\\tVA\\t23703\\tUSA\\t(757) 686-2992\\n*/\\n\\n\\nCREATE TABLE employee (\\n\\temployee_id INTEGER, \\n\\tfirst_name TEXT, \\n\\tlast_name TEXT, \\n\\temail TEXT, \\n\\tphone_number TEXT, \\n\\thire_date TEXT, \\n\\tjob_id TEXT, \\n\\tsalary REAL, \\n\\tmanager_id REAL, \\n\\tdepartment_id INTEGER\\n)\\n\\n/*\\n1 rows from employee table:\\nemployee_id\\tfirst_name\\tlast_name\\temail\\tphone_number\\thire_date\\tjob_id\\tsalary\\tmanager_id\\tdepartment_id\\n100\\tSteven\\tKing\\tsteven.king@example.com\\t515.123.4567\\t2003-06-17\\tAD_PRES\\t24000.0\\tNone\\t90\\n*/\\n\\n\\nCREATE TABLE sale (\\n\\tsaleid INTEGER, \\n\\tsaledate TEXT, \\n\\tcustomerid INTEGER, \\n\\ttax REAL, \\n\\tshipping REAL\\n)\\n\\n/*\\n1 rows from sale table:\\nsaleid\\tsaledate\\tcustomerid\\ttax\\tshipping\\n191228\\t2013-12-31\\t1134\\t0.0\\t44.37\\n*/\"\n",
      "}\n",
      "\u001b[36;1m\u001b[1;3m[chain/end]\u001b[0m \u001b[1m[chain:RunnableSequence > chain:RunnableLambda] [0ms] Exiting Chain run with output:\n",
      "\u001b[0m{\n",
      "  \"input\": \"Сколько у нас работников?\\nSQLQuery: \",\n",
      "  \"table_info\": \"\\nCREATE TABLE customer (\\n\\tcustomerid INTEGER, \\n\\tfirstname TEXT, \\n\\tlastname TEXT, \\n\\tstreetaddress TEXT, \\n\\tcity TEXT, \\n\\tstate TEXT, \\n\\tpostalcode TEXT, \\n\\tcountry TEXT, \\n\\tphone TEXT\\n)\\n\\n/*\\n1 rows from customer table:\\ncustomerid\\tfirstname\\tlastname\\tstreetaddress\\tcity\\tstate\\tpostalcode\\tcountry\\tphone\\n12\\tJames\\tDominick\\t4 Mast Ct\\tPortsmouth\\tVA\\t23703\\tUSA\\t(757) 686-2992\\n*/\\n\\n\\nCREATE TABLE employee (\\n\\temployee_id INTEGER, \\n\\tfirst_name TEXT, \\n\\tlast_name TEXT, \\n\\temail TEXT, \\n\\tphone_number TEXT, \\n\\thire_date TEXT, \\n\\tjob_id TEXT, \\n\\tsalary REAL, \\n\\tmanager_id REAL, \\n\\tdepartment_id INTEGER\\n)\\n\\n/*\\n1 rows from employee table:\\nemployee_id\\tfirst_name\\tlast_name\\temail\\tphone_number\\thire_date\\tjob_id\\tsalary\\tmanager_id\\tdepartment_id\\n100\\tSteven\\tKing\\tsteven.king@example.com\\t515.123.4567\\t2003-06-17\\tAD_PRES\\t24000.0\\tNone\\t90\\n*/\\n\\n\\nCREATE TABLE sale (\\n\\tsaleid INTEGER, \\n\\tsaledate TEXT, \\n\\tcustomerid INTEGER, \\n\\ttax REAL, \\n\\tshipping REAL\\n)\\n\\n/*\\n1 rows from sale table:\\nsaleid\\tsaledate\\tcustomerid\\ttax\\tshipping\\n191228\\t2013-12-31\\t1134\\t0.0\\t44.37\\n*/\"\n",
      "}\n",
      "\u001b[32;1m\u001b[1;3m[chain/start]\u001b[0m \u001b[1m[chain:RunnableSequence > prompt:PromptTemplate] Entering Prompt run with input:\n",
      "\u001b[0m{\n",
      "  \"input\": \"Сколько у нас работников?\\nSQLQuery: \",\n",
      "  \"table_info\": \"\\nCREATE TABLE customer (\\n\\tcustomerid INTEGER, \\n\\tfirstname TEXT, \\n\\tlastname TEXT, \\n\\tstreetaddress TEXT, \\n\\tcity TEXT, \\n\\tstate TEXT, \\n\\tpostalcode TEXT, \\n\\tcountry TEXT, \\n\\tphone TEXT\\n)\\n\\n/*\\n1 rows from customer table:\\ncustomerid\\tfirstname\\tlastname\\tstreetaddress\\tcity\\tstate\\tpostalcode\\tcountry\\tphone\\n12\\tJames\\tDominick\\t4 Mast Ct\\tPortsmouth\\tVA\\t23703\\tUSA\\t(757) 686-2992\\n*/\\n\\n\\nCREATE TABLE employee (\\n\\temployee_id INTEGER, \\n\\tfirst_name TEXT, \\n\\tlast_name TEXT, \\n\\temail TEXT, \\n\\tphone_number TEXT, \\n\\thire_date TEXT, \\n\\tjob_id TEXT, \\n\\tsalary REAL, \\n\\tmanager_id REAL, \\n\\tdepartment_id INTEGER\\n)\\n\\n/*\\n1 rows from employee table:\\nemployee_id\\tfirst_name\\tlast_name\\temail\\tphone_number\\thire_date\\tjob_id\\tsalary\\tmanager_id\\tdepartment_id\\n100\\tSteven\\tKing\\tsteven.king@example.com\\t515.123.4567\\t2003-06-17\\tAD_PRES\\t24000.0\\tNone\\t90\\n*/\\n\\n\\nCREATE TABLE sale (\\n\\tsaleid INTEGER, \\n\\tsaledate TEXT, \\n\\tcustomerid INTEGER, \\n\\ttax REAL, \\n\\tshipping REAL\\n)\\n\\n/*\\n1 rows from sale table:\\nsaleid\\tsaledate\\tcustomerid\\ttax\\tshipping\\n191228\\t2013-12-31\\t1134\\t0.0\\t44.37\\n*/\"\n",
      "}\n",
      "\u001b[36;1m\u001b[1;3m[chain/end]\u001b[0m \u001b[1m[chain:RunnableSequence > prompt:PromptTemplate] [0ms] Exiting Prompt run with output:\n",
      "\u001b[0m[outputs]\n",
      "\u001b[32;1m\u001b[1;3m[llm/start]\u001b[0m \u001b[1m[chain:RunnableSequence > llm:ChatYandexGPT] Entering LLM run with input:\n",
      "\u001b[0m{\n",
      "  \"prompts\": [\n",
      "    \"Human: You are a SQLite expert. Given an input question, first create a syntactically correct SQLite query to run, then look at the results of the query and return the answer to the input question.\\nUnless the user specifies in the question a specific number of examples to obtain, query for at most 5 results using the LIMIT clause as per SQLite. You can order the results to return the most informative data in the database.\\nNever query for all columns from a table. You must query only the columns that are needed to answer the question. Wrap each column name in double quotes (\\\") to denote them as delimited identifiers.\\nPay attention to use only the column names you can see in the tables below. Be careful to not query for columns that do not exist. Also, pay attention to which column is in which table.\\nPay attention to use date('now') function to get the current date, if the question involves \\\"today\\\".\\n\\nUse the following format:\\n\\nQuestion: Question here\\nSQLQuery: SQL Query to run\\nSQLResult: Result of the SQLQuery\\nAnswer: Final answer here\\n\\nOnly use the following tables:\\n\\nCREATE TABLE customer (\\n\\tcustomerid INTEGER, \\n\\tfirstname TEXT, \\n\\tlastname TEXT, \\n\\tstreetaddress TEXT, \\n\\tcity TEXT, \\n\\tstate TEXT, \\n\\tpostalcode TEXT, \\n\\tcountry TEXT, \\n\\tphone TEXT\\n)\\n\\n/*\\n1 rows from customer table:\\ncustomerid\\tfirstname\\tlastname\\tstreetaddress\\tcity\\tstate\\tpostalcode\\tcountry\\tphone\\n12\\tJames\\tDominick\\t4 Mast Ct\\tPortsmouth\\tVA\\t23703\\tUSA\\t(757) 686-2992\\n*/\\n\\n\\nCREATE TABLE employee (\\n\\temployee_id INTEGER, \\n\\tfirst_name TEXT, \\n\\tlast_name TEXT, \\n\\temail TEXT, \\n\\tphone_number TEXT, \\n\\thire_date TEXT, \\n\\tjob_id TEXT, \\n\\tsalary REAL, \\n\\tmanager_id REAL, \\n\\tdepartment_id INTEGER\\n)\\n\\n/*\\n1 rows from employee table:\\nemployee_id\\tfirst_name\\tlast_name\\temail\\tphone_number\\thire_date\\tjob_id\\tsalary\\tmanager_id\\tdepartment_id\\n100\\tSteven\\tKing\\tsteven.king@example.com\\t515.123.4567\\t2003-06-17\\tAD_PRES\\t24000.0\\tNone\\t90\\n*/\\n\\n\\nCREATE TABLE sale (\\n\\tsaleid INTEGER, \\n\\tsaledate TEXT, \\n\\tcustomerid INTEGER, \\n\\ttax REAL, \\n\\tshipping REAL\\n)\\n\\n/*\\n1 rows from sale table:\\nsaleid\\tsaledate\\tcustomerid\\ttax\\tshipping\\n191228\\t2013-12-31\\t1134\\t0.0\\t44.37\\n*/\\n\\nQuestion: Сколько у нас работников?\\nSQLQuery:\"\n",
      "  ]\n",
      "}\n",
      "\u001b[36;1m\u001b[1;3m[llm/end]\u001b[0m \u001b[1m[chain:RunnableSequence > llm:ChatYandexGPT] [1.07s] Exiting LLM run with output:\n",
      "\u001b[0m{\n",
      "  \"generations\": [\n",
      "    [\n",
      "      {\n",
      "        \"text\": \"```\\nSELECT COUNT(*) FROM employee;\\n```\",\n",
      "        \"generation_info\": null,\n",
      "        \"type\": \"ChatGeneration\",\n",
      "        \"message\": {\n",
      "          \"lc\": 1,\n",
      "          \"type\": \"constructor\",\n",
      "          \"id\": [\n",
      "            \"langchain\",\n",
      "            \"schema\",\n",
      "            \"messages\",\n",
      "            \"AIMessage\"\n",
      "          ],\n",
      "          \"kwargs\": {\n",
      "            \"content\": \"```\\nSELECT COUNT(*) FROM employee;\\n```\",\n",
      "            \"type\": \"ai\",\n",
      "            \"id\": \"run--1a627d29-a864-40fb-a0aa-a09823ae1d60-0\",\n",
      "            \"tool_calls\": [],\n",
      "            \"invalid_tool_calls\": []\n",
      "          }\n",
      "        }\n",
      "      }\n",
      "    ]\n",
      "  ],\n",
      "  \"llm_output\": null,\n",
      "  \"run\": null,\n",
      "  \"type\": \"LLMResult\"\n",
      "}\n",
      "\u001b[32;1m\u001b[1;3m[chain/start]\u001b[0m \u001b[1m[chain:RunnableSequence > parser:StrOutputParser] Entering Parser run with input:\n",
      "\u001b[0m[inputs]\n",
      "\u001b[36;1m\u001b[1;3m[chain/end]\u001b[0m \u001b[1m[chain:RunnableSequence > parser:StrOutputParser] [0ms] Exiting Parser run with output:\n",
      "\u001b[0m{\n",
      "  \"output\": \"```\\nSELECT COUNT(*) FROM employee;\\n```\"\n",
      "}\n",
      "\u001b[32;1m\u001b[1;3m[chain/start]\u001b[0m \u001b[1m[chain:RunnableSequence > chain:_strip] Entering Chain run with input:\n",
      "\u001b[0m{\n",
      "  \"input\": \"```\\nSELECT COUNT(*) FROM employee;\\n```\"\n",
      "}\n",
      "\u001b[36;1m\u001b[1;3m[chain/end]\u001b[0m \u001b[1m[chain:RunnableSequence > chain:_strip] [0ms] Exiting Chain run with output:\n",
      "\u001b[0m{\n",
      "  \"output\": \"```\\nSELECT COUNT(*) FROM employee;\\n```\"\n",
      "}\n",
      "\u001b[36;1m\u001b[1;3m[chain/end]\u001b[0m \u001b[1m[chain:RunnableSequence] [1.08s] Exiting Chain run with output:\n",
      "\u001b[0m{\n",
      "  \"output\": \"```\\nSELECT COUNT(*) FROM employee;\\n```\"\n",
      "}\n"
     ]
    },
    {
     "data": {
      "text/plain": [
       "'```\\nSELECT COUNT(*) FROM employee;\\n```'"
      ]
     },
     "execution_count": 17,
     "metadata": {},
     "output_type": "execute_result"
    }
   ],
   "source": [
    "response = chain.invoke({\"question\": \"Сколько у нас работников?\"})\n",
    "response"
   ]
  },
  {
   "cell_type": "code",
   "execution_count": 10,
   "id": "447f0deb-13f2-47d7-b9a7-363ef835f206",
   "metadata": {},
   "outputs": [
    {
     "data": {
      "text/plain": [
       "'SELECT COUNT(*) FROM employee;'"
      ]
     },
     "execution_count": 10,
     "metadata": {},
     "output_type": "execute_result"
    }
   ],
   "source": [
    "response.strip(\"`\\n\")"
   ]
  },
  {
   "cell_type": "code",
   "execution_count": 11,
   "id": "1d66e095",
   "metadata": {},
   "outputs": [
    {
     "data": {
      "text/plain": [
       "'[(11,)]'"
      ]
     },
     "execution_count": 11,
     "metadata": {},
     "output_type": "execute_result"
    }
   ],
   "source": [
    "db.run(response.strip(\"`\\n\"))"
   ]
  },
  {
   "cell_type": "code",
   "execution_count": 12,
   "id": "560739a8-a879-46a1-92ce-822ffbdb5473",
   "metadata": {},
   "outputs": [
    {
     "name": "stdout",
     "output_type": "stream",
     "text": [
      "```\n",
      "SELECT COUNT(customerid) \n",
      "FROM customer \n",
      "WHERE city = \"Бронкс\";\n",
      "```\n",
      "[(0,)]\n"
     ]
    }
   ],
   "source": [
    "response = chain.invoke({\"question\": \"Сколько клиентов из Бронкса?\"})\n",
    "print(response)\n",
    "print(db.run(response.strip(\"`\\n\")))"
   ]
  },
  {
   "cell_type": "code",
   "execution_count": 13,
   "id": "b3d18b40",
   "metadata": {},
   "outputs": [
    {
     "name": "stdout",
     "output_type": "stream",
     "text": [
      "```\n",
      "SELECT COUNT(customerid) \n",
      "FROM customer \n",
      "WHERE city = \"Bronx\";\n",
      "```\n",
      "[(2,)]\n"
     ]
    }
   ],
   "source": [
    "response = chain.invoke({\"question\": \"Сколько клиентов из Бронкса (используй английское название)?\"})\n",
    "print(response)\n",
    "print(db.run(response.strip(\"`\\n\")))"
   ]
  },
  {
   "cell_type": "code",
   "execution_count": 14,
   "id": "13a5754c",
   "metadata": {},
   "outputs": [
    {
     "name": "stdout",
     "output_type": "stream",
     "text": [
      "```\n",
      "SELECT state, COUNT(customerid) AS count_of_customers\n",
      "FROM customer\n",
      "GROUP BY state\n",
      "ORDER BY count_of_customers DESC\n",
      "LIMIT 1;\n",
      "```\n",
      "[('NY', 79)]\n"
     ]
    }
   ],
   "source": [
    "response = chain.invoke({\"question\": \"Из какого штата наибольшее количество клиентов?\"})\n",
    "print(response)\n",
    "print(db.run(response.strip(\"`\\n\")))"
   ]
  },
  {
   "cell_type": "code",
   "execution_count": 15,
   "id": "c293f9d4",
   "metadata": {},
   "outputs": [
    {
     "name": "stdout",
     "output_type": "stream",
     "text": [
      "```\n",
      "SELECT customerid, shipping \n",
      "FROM sale \n",
      "ORDER BY shipping DESC \n",
      "LIMIT 5;\n",
      "```\n",
      "[(12976, 59.47), (1096, 59.37), (15651, 59.03), (17667, 58.15), (6725, 55.53)]\n"
     ]
    }
   ],
   "source": [
    "response = chain.invoke({\"question\": \"Найди мне топ 5 клиентов, заплативших наибольшую стоимость пересылки\"})\n",
    "print(response)\n",
    "print(db.run(response.strip(\"`\\n\")))"
   ]
  },
  {
   "cell_type": "code",
   "execution_count": null,
   "id": "ca635ee7",
   "metadata": {},
   "outputs": [],
   "source": []
  },
  {
   "cell_type": "code",
   "execution_count": null,
   "id": "51155224",
   "metadata": {},
   "outputs": [],
   "source": []
  },
  {
   "cell_type": "code",
   "execution_count": null,
   "id": "5d93f858",
   "metadata": {},
   "outputs": [],
   "source": []
  },
  {
   "cell_type": "code",
   "execution_count": null,
   "id": "9a11622e",
   "metadata": {},
   "outputs": [],
   "source": []
  }
 ],
 "metadata": {
  "kernelspec": {
   "display_name": "Python 3 (ipykernel)",
   "language": "python",
   "name": "python3"
  },
  "language_info": {
   "codemirror_mode": {
    "name": "ipython",
    "version": 3
   },
   "file_extension": ".py",
   "mimetype": "text/x-python",
   "name": "python",
   "nbconvert_exporter": "python",
   "pygments_lexer": "ipython3",
   "version": "3.10.11"
  }
 },
 "nbformat": 4,
 "nbformat_minor": 5
}
